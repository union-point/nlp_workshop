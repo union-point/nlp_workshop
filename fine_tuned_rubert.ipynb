{
 "cells": [
  {
   "cell_type": "code",
   "execution_count": 1,
   "metadata": {
    "execution": {
     "iopub.execute_input": "2024-10-10T17:36:28.648876Z",
     "iopub.status.busy": "2024-10-10T17:36:28.648074Z",
     "iopub.status.idle": "2024-10-10T17:36:46.500340Z",
     "shell.execute_reply": "2024-10-10T17:36:46.499441Z",
     "shell.execute_reply.started": "2024-10-10T17:36:28.648830Z"
    },
    "id": "k_i2ky6YmanV"
   },
   "outputs": [],
   "source": [
    "import pathlib\n",
    "import re\n",
    "import string\n",
    "import os\n",
    "from tqdm import tqdm\n",
    "import pandas as pd\n",
    "import numpy as np\n",
    "\n",
    "from sklearn.model_selection import train_test_split\n",
    "from sklearn.metrics import f1_score, accuracy_score, roc_auc_score\n",
    "\n",
    "import torch\n",
    "from torch.utils.data import DataLoader, Dataset\n",
    "\n",
    "from transformers import DataCollatorWithPadding, DataCollatorForLanguageModeling\n",
    "from transformers import (\n",
    "    get_linear_schedule_with_warmup,\n",
    ")\n",
    "from transformers import AutoModelForMaskedLM, AutoModel\n",
    "from transformers import AutoTokenizer\n",
    "\n",
    "from sklearn.model_selection import train_test_split\n",
    "\n",
    "device = torch.device(\"cuda\" if torch.cuda.is_available() else \"cpu\")\n",
    "\n",
    "ROOT_DIR = pathlib.Path().absolute()\n",
    "DATA_DIR = ROOT_DIR / \"data\"\n",
    "RANDOM_SEED = 42"
   ]
  },
  {
   "cell_type": "code",
   "execution_count": 4,
   "metadata": {
    "execution": {
     "iopub.execute_input": "2024-10-10T17:37:06.697660Z",
     "iopub.status.busy": "2024-10-10T17:37:06.697206Z",
     "iopub.status.idle": "2024-10-10T17:37:06.705907Z",
     "shell.execute_reply": "2024-10-10T17:37:06.704647Z",
     "shell.execute_reply.started": "2024-10-10T17:37:06.697615Z"
    },
    "id": "RqHlRBhCmeA2"
   },
   "outputs": [],
   "source": [
    "def preprocess_text(text):\n",
    "    text = text.lower()\n",
    "    text = text.translate(\n",
    "        str.maketrans(\n",
    "            \"\",\n",
    "            \"\",\n",
    "            \"\".join(c for c in string.punctuation if c not in {\",\", \".\", \"[\", \"]\"}),\n",
    "        )\n",
    "    )\n",
    "    emoji_pattern = re.compile(\n",
    "        \"[\"\n",
    "        \"\\U0001f600-\\U0001f64f\"\n",
    "        \"\\U0001f300-\\U0001f5ff\"\n",
    "        \"\\U0001f680-\\U0001f6ff\"\n",
    "        \"\\U0001f1e0-\\U0001f1ff\"\n",
    "        \"\\U00002500-\\U00002bef\"\n",
    "        \"\\U00002702-\\U000027b0\"\n",
    "        \"\\U0001f900-\\U0001f9ff\"\n",
    "        \"\\U0001f1f2-\\U0001f1f4\"\n",
    "        \"\\U0001f1e6-\\U0001f1ff\"\n",
    "        \"\\U0001f194-\\U0001f251\"\n",
    "        \"\\U0000203c-\\U00002049\"\n",
    "        \"\\U00002b50-\\U0001f251\"\n",
    "        \"\\u200d\"\n",
    "        \"\\u2640-\\u2642\"\n",
    "        \"\\u2600-\\u2b55\"\n",
    "        \"\\u231a-\\u231b\"\n",
    "        \"\\u23cf\"\n",
    "        \"\\u23e9-\\u23f3\"\n",
    "        \"\\u25aa-\\u25ab\"\n",
    "        \"\\u2b05-\\u2b07\"\n",
    "        \"\\u2934-\\u2935\"\n",
    "        \"\\u3030\"\n",
    "        \"\\u3297-\\u3299\"\n",
    "        \"]+\",\n",
    "        flags=re.UNICODE,\n",
    "    )\n",
    "    return emoji_pattern.sub(r\"\", text)"
   ]
  },
  {
   "cell_type": "code",
   "execution_count": 5,
   "metadata": {
    "execution": {
     "iopub.execute_input": "2024-10-10T17:37:07.925825Z",
     "iopub.status.busy": "2024-10-10T17:37:07.924983Z",
     "iopub.status.idle": "2024-10-10T17:37:07.936280Z",
     "shell.execute_reply": "2024-10-10T17:37:07.935223Z",
     "shell.execute_reply.started": "2024-10-10T17:37:07.925780Z"
    },
    "id": "8RxSTx_BD8oh"
   },
   "outputs": [],
   "source": [
    "class MultiLabelDataset(Dataset):\n",
    "    def __init__(self, texts, tokenizer, labels=None, max_length=512):\n",
    "        self.texts = texts\n",
    "        self.labels = labels\n",
    "        self.tokenizer = tokenizer\n",
    "        self.max_length = max_length\n",
    "\n",
    "    def __len__(self):\n",
    "        return len(self.texts)\n",
    "\n",
    "    def __getitem__(self, idx):\n",
    "        text = self.texts.iloc[idx]\n",
    "        if self.labels is not None:\n",
    "            label = self.labels.iloc[idx].values.astype(\"float\")\n",
    "\n",
    "        encoding = self.tokenizer.encode_plus(\n",
    "            text,\n",
    "            add_special_tokens=True,\n",
    "            max_length=self.max_length,\n",
    "            return_token_type_ids=False,\n",
    "            padding=\"max_length\",\n",
    "            truncation=True,\n",
    "            return_attention_mask=True,\n",
    "            return_tensors=\"pt\",\n",
    "        )\n",
    "        if self.labels is not None:\n",
    "            return {\n",
    "                \"input_ids\": encoding[\"input_ids\"].flatten(),\n",
    "                \"attention_mask\": encoding[\"attention_mask\"].flatten(),\n",
    "                \"labels\": torch.tensor(label, dtype=torch.float),\n",
    "            }\n",
    "        return {\n",
    "            \"input_ids\": encoding[\"input_ids\"].flatten(),\n",
    "            \"attention_mask\": encoding[\"attention_mask\"].flatten(),\n",
    "        }"
   ]
  },
  {
   "cell_type": "markdown",
   "metadata": {
    "id": "JO8hQrqt4pF7"
   },
   "source": [
    "## Future pre-training\n",
    "#### preparing data  "
   ]
  },
  {
   "cell_type": "code",
   "execution_count": null,
   "metadata": {},
   "outputs": [],
   "source": [
    "model_name = \"DeepPavlov/rubert-base-cased\""
   ]
  },
  {
   "cell_type": "code",
   "execution_count": 118,
   "metadata": {
    "colab": {
     "base_uri": "https://localhost:8080/",
     "height": 458
    },
    "execution": {
     "iopub.execute_input": "2024-10-10T19:28:56.106309Z",
     "iopub.status.busy": "2024-10-10T19:28:56.105290Z",
     "iopub.status.idle": "2024-10-10T19:28:56.626874Z",
     "shell.execute_reply": "2024-10-10T19:28:56.625732Z",
     "shell.execute_reply.started": "2024-10-10T19:28:56.106260Z"
    },
    "id": "iqrvD-hsqsRy",
    "outputId": "8f7c585b-1561-4738-8a01-bb4291ee329b"
   },
   "outputs": [
    {
     "data": {
      "text/plain": [
       "0        маленький выбор товаров, хотелось бы ассортиме...\n",
       "1                                                   быстро\n",
       "2                         доставка постоянно задерживается\n",
       "3                       наценка и ассортимент расстраивают\n",
       "4        можно немного скинуть минимальную сумму заказа...\n",
       "                               ...                        \n",
       "13633    задержка с доставкой не даете промокод на скид...\n",
       "13634    очень удобный формат сервиса и очень маленький...\n",
       "13635    сумма заказа почти всегда высокая, что зачасту...\n",
       "13636    часто, заказываю у вас молочную продукцию, при...\n",
       "13637    изначально подкупало то, что заказ от [num] ру...\n",
       "Name: text, Length: 13638, dtype: object"
      ]
     },
     "execution_count": 118,
     "metadata": {},
     "output_type": "execute_result"
    }
   ],
   "source": [
    "df_train = pd.read_csv(DATA_DIR/\"train.csv\")\n",
    "df_test = pd.read_csv(DATA_DIR/\"test.csv\")\n",
    "df_test = df_test[[\"text\"]]\n",
    "df_train = df_train[[\"text\"]]\n",
    "df = pd.concat([df_train, df_test]).reset_index()\n",
    "df.text = df.text.astype(\"str\").apply(preprocess_text)\n",
    "text = df[\"text\"]\n",
    "text"
   ]
  },
  {
   "cell_type": "code",
   "execution_count": null,
   "metadata": {
    "colab": {
     "base_uri": "https://localhost:8080/",
     "height": 634,
     "referenced_widgets": [
      "eb133ba17d304c8f89af3195aecca8ce",
      "84377b940a3e40e08739abcf9a3d138a",
      "dec5a12fee91473e893475aab27780a6",
      "f9b0f348863f4a98b5d0da5597473570",
      "a6815ef632aa4d229b3bbce50e943085",
      "2097afe7c3d34381a795d80e1f75c341",
      "5d57c400b4b3480198aa1491ba5b6ac3",
      "196d4343298243dba0d396f294633cc7",
      "1bdf0bc1d30846a6871ee3d79cee4b23",
      "3bd03b5fe4de440498d92c9c0a2abd4e",
      "fe171f7e068246d9beafea494e9e8780",
      "e59ec64216b54369aa6579b9f39f4bc8",
      "a05fbc5632a245de993a7bf513ee68eb",
      "76bacb9e90ad41c3bb899e91ba8df8b7",
      "fa0a1b3eaac24a488e8babf89570884f",
      "0f210147119c49d7bfdc2af80ac2e03c",
      "94e3fc4583cc4c20b717868ec195c836",
      "c944437616d14b68b438d2190cdb2d29",
      "d5a49e133aee48af93554de66d23cfd1",
      "02ca131e060b415aa479878cb50192ef",
      "7d757973166e4d2a8dee3bf4a0e086e0",
      "2f38bed55f884833baa0d5bb950b3161",
      "459663ec64284cdd9635ae7600373a96",
      "302e6b6532fc4324b71a95dd7ddc2827",
      "6b9a7c2e192945c8b3567d5f085a5e3a",
      "115524ef6036446989c5df01f11745b3",
      "8c5754ebb9d24f1abfcdf37a4adbc94d",
      "5cb58536080f4dc9830462de5c46e2ca",
      "313a53fb54824d17bc97404f624d4ed8",
      "c2d8fd57d81e423dba6dc36a524f46c7",
      "cc12251ac48041f98780e4c8177241f4",
      "898a726456a648a08e730c744084386a",
      "3a255d2ee2064036a73bec032c080bd9",
      "9ac6a114081b458fb3d321cfce6bb9fb",
      "5e305305f5a94370872e93642c983f40",
      "cde416fa94f74dc88b5230fe2e1f9d06",
      "9d0de5d3bed948b590def0593647d9c9",
      "ecff7fbd55984d98a330a66c2972f209",
      "38db00b957a34d1ab5967419fc5f4dbf",
      "ae6571be2e704cb2b50c6ef63cef55c1",
      "c2a816fe6c094898a7fc9f731080603f",
      "12f58056b0ec4c3490bc6e895f33a0f1",
      "b44f9d6dc02b4816860cffd44661c4aa",
      "25be499348704260a32e0f93bc574dd1"
     ]
    },
    "id": "Cj0efxo0rSNh",
    "outputId": "f29e00ea-337a-447e-bf53-969009726d76"
   },
   "outputs": [],
   "source": [
    "tokenizer = AutoTokenizer.from_pretrained(model_name,clean_up_tokenization_spaces = True)\n",
    "\n",
    "text_dataset = MultiLabelDataset(text, tokenizer)\n",
    "data_collator = DataCollatorForLanguageModeling(\n",
    "    tokenizer=tokenizer, mlm=True, mlm_probability=0.15\n",
    ")\n",
    "mlm_dataloader = DataLoader(text_dataset, batch_size=8, shuffle=True, collate_fn=data_collator)"
   ]
  },
  {
   "cell_type": "markdown",
   "metadata": {
    "id": "Lfse9f284pF_"
   },
   "source": [
    "#### Model MLM training"
   ]
  },
  {
   "cell_type": "code",
   "execution_count": null,
   "metadata": {
    "id": "Cgw0ys80tBz5"
   },
   "outputs": [],
   "source": [
    "model = AutoModelForMaskedLM.from_pretrained(model_name,trust_remote_code=True).to(device)"
   ]
  },
  {
   "cell_type": "code",
   "execution_count": null,
   "metadata": {
    "colab": {
     "base_uri": "https://localhost:8080/"
    },
    "id": "NOP_Zlauaf16",
    "outputId": "37471d59-f467-4775-b354-6b2c678d9d85"
   },
   "outputs": [],
   "source": [
    "EPOCHS = 1\n",
    "\n",
    "optimizer = torch.optim.AdamW(model.parameters(), lr=5e-5)\n",
    "\n",
    "total_steps = len(mlm_dataloader) * EPOCHS\n",
    "num_warmup_steps = 0.1 * total_steps\n",
    "\n",
    "scheduler = get_linear_schedule_with_warmup(\n",
    "    optimizer, num_warmup_steps=num_warmup_steps, num_training_steps=total_steps\n",
    ")\n",
    "\n",
    "model.train()\n",
    "for epoch in range(EPOCHS):\n",
    "    losses = []\n",
    "\n",
    "    train_loop = tqdm(mlm_dataloader, leave=False)\n",
    "    for batch in train_loop:\n",
    "        optimizer.zero_grad()\n",
    "\n",
    "        input_ids = batch[\"input_ids\"].to(device)\n",
    "        attention_mask = batch[\"attention_mask\"].to(device)\n",
    "        labels = batch[\"labels\"].to(device)\n",
    "\n",
    "        outputs = model(input_ids, attention_mask=attention_mask, labels=labels)\n",
    "\n",
    "        loss = outputs.loss\n",
    "        losses.append(loss.item())\n",
    "\n",
    "        loss.backward()\n",
    "        optimizer.step()\n",
    "        scheduler.step()\n",
    "        train_loop.set_description(\n",
    "            f\"Epoch [{epoch+1}/{EPOCHS}], Train loss {sum(losses) / len(losses):.4f}, lr: {scheduler.get_lr()[0]} \"\n",
    "        )\n",
    "    print(f\"Epoch {epoch+1}/{EPOCHS}, Loss: {sum(losses)/len(mlm_dataloader)}\")\n"
   ]
  },
  {
   "cell_type": "code",
   "execution_count": null,
   "metadata": {
    "id": "nHlk7Kzk34bf"
   },
   "outputs": [],
   "source": [
    "def make_model_contiguous(model):\n",
    "    for param in model.parameters(): \n",
    "        param.data = param.data.contiguous()\n",
    "\n",
    "make_model_contiguous(model)"
   ]
  },
  {
   "cell_type": "code",
   "execution_count": null,
   "metadata": {
    "colab": {
     "base_uri": "https://localhost:8080/"
    },
    "id": "SGuZIASzopEg",
    "outputId": "ddce6927-8875-4857-c662-2294dc9caae8"
   },
   "outputs": [],
   "source": [
    "model.save_pretrained(\"pre_trained_bert\")\n",
    "tokenizer.save_pretrained(\"pre_trained_bert\")"
   ]
  },
  {
   "cell_type": "markdown",
   "metadata": {
    "id": "8ATiJOXf4pGD"
   },
   "source": [
    "## Fine tuning  for classification\n",
    "#### preparing data for classification"
   ]
  },
  {
   "cell_type": "code",
   "execution_count": null,
   "metadata": {},
   "outputs": [],
   "source": [
    "mlc_model = \"bert_multi_label_classifier\"\n",
    "#!mkdir {mlc_model}\n",
    "pretrained_model_name = \"pre_trained_bert\"\n",
    "\n",
    "pretrained_model_name = model_name # если не используется pre_trained_bert, или же при инференсе"
   ]
  },
  {
   "cell_type": "code",
   "execution_count": 13,
   "metadata": {
    "colab": {
     "base_uri": "https://localhost:8080/"
    },
    "execution": {
     "iopub.execute_input": "2024-10-10T17:43:03.239487Z",
     "iopub.status.busy": "2024-10-10T17:43:03.238695Z",
     "iopub.status.idle": "2024-10-10T17:43:03.589308Z",
     "shell.execute_reply": "2024-10-10T17:43:03.588229Z",
     "shell.execute_reply.started": "2024-10-10T17:43:03.239434Z"
    },
    "id": "zTGt7bEUxTzd",
    "outputId": "dc559e97-e0d9-4f08-ff47-92ca81aaf02e"
   },
   "outputs": [
    {
     "name": "stdout",
     "output_type": "stream",
     "text": [
      "(3929,) (694,)\n"
     ]
    }
   ],
   "source": [
    "data = pd.read_csv(DATA_DIR/\"train.csv\")\n",
    "data.text = data.text.apply(preprocess_text)\n",
    "\n",
    "replecment_dict = {\n",
    "    \"ASSORTMENT\": \"ассортимент\",\n",
    "    \"PROMOTIONS\": \"акции\",\n",
    "    \"DELIVERY\": \"доставка\",\n",
    "    \"PRICE\": \"цена\",\n",
    "    \"PRODUCTS_QUALITY\": \"качество продукции\",\n",
    "    \"SUPPORT\": \"поддержка\",\n",
    "    \"CATALOG_NAVIGATION\": \"навигация по каталогу\",\n",
    "    \"PAYMENT\": \"оплата\",\n",
    "    \"unknown\": \"\",\n",
    "}\n",
    "\n",
    "data[\"tags\"] = (\n",
    "    data[\"tags\"]\n",
    "    .fillna(\"unknown\")\n",
    "    .astype(\"str\")\n",
    "    .copy()\n",
    "    .apply(lambda x: x.strip(\"{}\").split(\",\"))\n",
    "    .apply(lambda x: (\", \".join(replecment_dict[i] for i in x)))\n",
    ")\n",
    "\n",
    "data[\"text_and_tag\"] = data.apply(\n",
    "    lambda x: f\"теги: {x.tags}.\\n отзыв: {x.text}\", axis=1\n",
    ")\n",
    "\n",
    "labels = data[[f\"trend_id_res{i}\" for i in range(50)]]\n",
    "text = data[\"text_and_tag\"]\n",
    "\n",
    "X_train, X_val, Y_train, Y_val = train_test_split(\n",
    "    text, labels, test_size=0.15, random_state=RANDOM_SEED\n",
    ")\n",
    "\n",
    "print(X_train.shape, X_val.shape)"
   ]
  },
  {
   "cell_type": "code",
   "execution_count": 119,
   "metadata": {
    "colab": {
     "base_uri": "https://localhost:8080/"
    },
    "execution": {
     "iopub.execute_input": "2024-10-10T19:30:21.384233Z",
     "iopub.status.busy": "2024-10-10T19:30:21.382825Z",
     "iopub.status.idle": "2024-10-10T19:30:21.576140Z",
     "shell.execute_reply": "2024-10-10T19:30:21.575140Z",
     "shell.execute_reply.started": "2024-10-10T19:30:21.384171Z"
    },
    "id": "69ud-Cp3tW6S",
    "outputId": "5bd564a7-1298-480f-dc61-eeddf38ccc17"
   },
   "outputs": [],
   "source": [
    "tokenizer = AutoTokenizer.from_pretrained(pretrained_model_name)\n",
    "\n",
    "train_dataset = MultiLabelDataset(X_train, tokenizer, Y_train)\n",
    "val_dataset = MultiLabelDataset(X_val, tokenizer, Y_val)\n",
    "\n",
    "train_loader = DataLoader(train_dataset, batch_size=32, shuffle=True)\n",
    "val_loader = DataLoader(val_dataset, batch_size=32)"
   ]
  },
  {
   "cell_type": "markdown",
   "metadata": {},
   "source": [
    "#### Modelling"
   ]
  },
  {
   "cell_type": "code",
   "execution_count": 16,
   "metadata": {
    "execution": {
     "iopub.execute_input": "2024-10-10T17:43:54.236958Z",
     "iopub.status.busy": "2024-10-10T17:43:54.236561Z",
     "iopub.status.idle": "2024-10-10T17:43:54.246174Z",
     "shell.execute_reply": "2024-10-10T17:43:54.244789Z",
     "shell.execute_reply.started": "2024-10-10T17:43:54.236924Z"
    },
    "id": "4gHz43t2DqOu"
   },
   "outputs": [],
   "source": [
    "class BERTMultiLabelClassifier(torch.nn.Module):\n",
    "    def __init__(self, pretrained_model_name):\n",
    "        super(BERTMultiLabelClassifier, self).__init__()\n",
    "        self.bert = AutoModel.from_pretrained(\n",
    "            pretrained_model_name, output_hidden_states=True\n",
    "        )\n",
    "        self.dropout = torch.nn.Dropout(0.2)\n",
    "        self.fc = torch.nn.Linear(self.bert.config.hidden_size * 4, 50)\n",
    "\n",
    "    def forward(self, input_ids, attention_mask):\n",
    "        outputs = self.bert(input_ids=input_ids, attention_mask=attention_mask)\n",
    "\n",
    "        # hidden states of all layers (13 of embeddings + 12 of transformer)\n",
    "        hidden_states = outputs.hidden_states\n",
    "        # concat last 4 layers\n",
    "        last_four_layers = hidden_states[-4 :]\n",
    "        concat_hidden_states = torch.cat(last_four_layers, dim=-1)\n",
    "\n",
    "        pooled_output = torch.mean(concat_hidden_states, dim=1)\n",
    "\n",
    "        pooled_output = self.dropout(pooled_output)\n",
    "        logits = self.fc(pooled_output)\n",
    "        return logits"
   ]
  },
  {
   "cell_type": "code",
   "execution_count": 17,
   "metadata": {
    "colab": {
     "base_uri": "https://localhost:8080/"
    },
    "execution": {
     "iopub.execute_input": "2024-10-10T17:43:58.121080Z",
     "iopub.status.busy": "2024-10-10T17:43:58.120041Z",
     "iopub.status.idle": "2024-10-10T17:44:00.703307Z",
     "shell.execute_reply": "2024-10-10T17:44:00.702371Z",
     "shell.execute_reply.started": "2024-10-10T17:43:58.121034Z"
    },
    "id": "yKbh5Ta5ylnn",
    "outputId": "a6c9b799-5a82-41b7-cfd6-d7f3f29ba8f0"
   },
   "outputs": [
    {
     "name": "stderr",
     "output_type": "stream",
     "text": [
      "Some weights of BertModel were not initialized from the model checkpoint at mlm_fpt_bert and are newly initialized: ['bert.pooler.dense.bias', 'bert.pooler.dense.weight']\n",
      "You should probably TRAIN this model on a down-stream task to be able to use it for predictions and inference.\n"
     ]
    },
    {
     "data": {
      "text/plain": [
       "torch.Size([32, 50])"
      ]
     },
     "execution_count": 17,
     "metadata": {},
     "output_type": "execute_result"
    }
   ],
   "source": [
    "model = BERTMultiLabelClassifier(pretrained_model_name=pretrained_model_name).to(device)\n",
    "model(\n",
    "    next(iter(val_loader))[\"input_ids\"].to(device),\n",
    "    next(iter(val_loader))[\"attention_mask\"].to(device),\n",
    ").shape"
   ]
  },
  {
   "cell_type": "code",
   "execution_count": 18,
   "metadata": {
    "colab": {
     "base_uri": "https://localhost:8080/",
     "height": 833
    },
    "execution": {
     "iopub.execute_input": "2024-10-10T17:44:04.643343Z",
     "iopub.status.busy": "2024-10-10T17:44:04.642216Z",
     "iopub.status.idle": "2024-10-10T17:44:04.651767Z",
     "shell.execute_reply": "2024-10-10T17:44:04.650529Z",
     "shell.execute_reply.started": "2024-10-10T17:44:04.643299Z"
    },
    "id": "oW6p0ADzf0jW",
    "outputId": "c6c8f8dc-ad5b-49d1-fc14-8e226ab6afdc"
   },
   "outputs": [
    {
     "data": {
      "text/plain": [
       "BERTMultiLabelClassifier(\n",
       "  (bert): BertModel(\n",
       "    (embeddings): BertEmbeddings(\n",
       "      (word_embeddings): Embedding(119547, 768, padding_idx=0)\n",
       "      (position_embeddings): Embedding(512, 768)\n",
       "      (token_type_embeddings): Embedding(2, 768)\n",
       "      (LayerNorm): LayerNorm((768,), eps=1e-12, elementwise_affine=True)\n",
       "      (dropout): Dropout(p=0.1, inplace=False)\n",
       "    )\n",
       "    (encoder): BertEncoder(\n",
       "      (layer): ModuleList(\n",
       "        (0-11): 12 x BertLayer(\n",
       "          (attention): BertAttention(\n",
       "            (self): BertSdpaSelfAttention(\n",
       "              (query): Linear(in_features=768, out_features=768, bias=True)\n",
       "              (key): Linear(in_features=768, out_features=768, bias=True)\n",
       "              (value): Linear(in_features=768, out_features=768, bias=True)\n",
       "              (dropout): Dropout(p=0.1, inplace=False)\n",
       "            )\n",
       "            (output): BertSelfOutput(\n",
       "              (dense): Linear(in_features=768, out_features=768, bias=True)\n",
       "              (LayerNorm): LayerNorm((768,), eps=1e-12, elementwise_affine=True)\n",
       "              (dropout): Dropout(p=0.1, inplace=False)\n",
       "            )\n",
       "          )\n",
       "          (intermediate): BertIntermediate(\n",
       "            (dense): Linear(in_features=768, out_features=3072, bias=True)\n",
       "            (intermediate_act_fn): GELUActivation()\n",
       "          )\n",
       "          (output): BertOutput(\n",
       "            (dense): Linear(in_features=3072, out_features=768, bias=True)\n",
       "            (LayerNorm): LayerNorm((768,), eps=1e-12, elementwise_affine=True)\n",
       "            (dropout): Dropout(p=0.1, inplace=False)\n",
       "          )\n",
       "        )\n",
       "      )\n",
       "    )\n",
       "    (pooler): BertPooler(\n",
       "      (dense): Linear(in_features=768, out_features=768, bias=True)\n",
       "      (activation): Tanh()\n",
       "    )\n",
       "  )\n",
       "  (dropout): Dropout(p=0.2, inplace=False)\n",
       "  (fc): Linear(in_features=3072, out_features=50, bias=True)\n",
       ")"
      ]
     },
     "metadata": {},
     "output_type": "display_data"
    }
   ],
   "source": [
    "display(model)"
   ]
  },
  {
   "cell_type": "markdown",
   "metadata": {},
   "source": [
    "#### Training pipeline"
   ]
  },
  {
   "cell_type": "code",
   "execution_count": 19,
   "metadata": {
    "execution": {
     "iopub.execute_input": "2024-10-10T17:44:10.905825Z",
     "iopub.status.busy": "2024-10-10T17:44:10.904564Z",
     "iopub.status.idle": "2024-10-10T17:44:10.910387Z",
     "shell.execute_reply": "2024-10-10T17:44:10.909309Z",
     "shell.execute_reply.started": "2024-10-10T17:44:10.905780Z"
    },
    "id": "h_PhkS7-kj2w"
   },
   "outputs": [],
   "source": [
    "# pw = torch.tensor((Y.shape[0] - Y.sum())/Y.sum())\n",
    "\n",
    "criterion = torch.nn.BCEWithLogitsLoss().to(device)"
   ]
  },
  {
   "cell_type": "code",
   "execution_count": 20,
   "metadata": {
    "execution": {
     "iopub.execute_input": "2024-10-10T17:44:12.897051Z",
     "iopub.status.busy": "2024-10-10T17:44:12.896651Z",
     "iopub.status.idle": "2024-10-10T17:44:12.902077Z",
     "shell.execute_reply": "2024-10-10T17:44:12.900995Z",
     "shell.execute_reply.started": "2024-10-10T17:44:12.897014Z"
    },
    "id": "GhPk1W3HGnof"
   },
   "outputs": [],
   "source": [
    "train_acc = []\n",
    "train_loss = []\n",
    "val_loss = []\n",
    "val_acc = []\n",
    "lr_list = []"
   ]
  },
  {
   "cell_type": "code",
   "execution_count": 21,
   "metadata": {
    "execution": {
     "iopub.execute_input": "2024-10-10T17:44:22.959941Z",
     "iopub.status.busy": "2024-10-10T17:44:22.959106Z",
     "iopub.status.idle": "2024-10-10T17:44:22.978213Z",
     "shell.execute_reply": "2024-10-10T17:44:22.976869Z",
     "shell.execute_reply.started": "2024-10-10T17:44:22.959899Z"
    },
    "id": "epy7KzHvB_2W"
   },
   "outputs": [],
   "source": [
    "def train(model, EPOCHS, optimizer, scheduler=None):\n",
    "    \n",
    "    best_acc = -1\n",
    "    for epoch in range(EPOCHS):\n",
    "        running_train_loss = []\n",
    "        mean_train_loss = 0\n",
    "        true_answer = 0\n",
    "        \n",
    "        model.train()\n",
    "        \n",
    "        train_loop = tqdm(train_loader, leave=False)\n",
    "        for batch in train_loop:\n",
    "            optimizer.zero_grad()\n",
    "\n",
    "            input_ids = batch[\"input_ids\"].to(device)\n",
    "            attention_mask = batch[\"attention_mask\"].to(device)\n",
    "            labels = batch[\"labels\"].to(device)\n",
    "            \n",
    "            batch_outputs = model(input_ids, attention_mask)\n",
    "\n",
    "            loss = criterion(batch_outputs, labels)\n",
    "            \n",
    "            running_train_loss.append(loss.item())\n",
    "            mean_train_loss = sum(running_train_loss) / len(running_train_loss)\n",
    "\n",
    "            loss.backward()\n",
    "            optimizer.step()\n",
    "            \n",
    "            batch_outputs = batch_outputs > 0\n",
    "            true_answer += (batch_outputs == labels).all(axis=1).sum().item()\n",
    "            \n",
    "            if scheduler:\n",
    "                scheduler.step()\n",
    "                lr = scheduler.get_last_lr()\n",
    "                lr_list.append(lr)\n",
    "            else:\n",
    "                lr = optimizer.param_groups[0][\"lr\"]\n",
    "            \n",
    "            train_loop.set_description(\n",
    "                f\"Epoch [{epoch+1}/{EPOCHS}], Train loss {mean_train_loss:.4f}, lr: {lr} \"\n",
    "            )\n",
    "\n",
    "                \n",
    "        train_loss.append(mean_train_loss)\n",
    "        mean_train_acc = true_answer / len(train_loader.dataset)\n",
    "        train_acc.append(mean_train_acc)\n",
    "\n",
    "        model.eval()\n",
    "        with torch.no_grad():\n",
    "            running_val_loss = []\n",
    "            mean_val_loss = 0\n",
    "            true_answer = 0\n",
    "            for batch in val_loader:\n",
    "                input_ids = batch[\"input_ids\"].to(device)\n",
    "                attention_mask = batch[\"attention_mask\"].to(device)\n",
    "                labels = batch[\"labels\"].to(device)\n",
    "\n",
    "                batch_outputs = model(input_ids, attention_mask)\n",
    "\n",
    "                loss = criterion(batch_outputs, labels)\n",
    "                running_val_loss.append(loss.item())\n",
    "                mean_val_loss = sum(running_val_loss) / len(running_val_loss)\n",
    "                \n",
    "                batch_outputs = (batch_outputs > 0).float()\n",
    "                true_answer += (batch_outputs == labels).all(axis=1).sum().item()\n",
    "                \n",
    "        val_loss.append(mean_val_loss)\n",
    "        mean_val_acc = true_answer / len(val_loader.dataset)\n",
    "        val_acc.append(mean_val_acc)\n",
    "        print(\n",
    "            f\"Epoch [{epoch+1}/{EPOCHS}], Train loss: {mean_train_loss:.4f}, Val loss: {mean_val_loss:.4f}, Train Accuricy {mean_train_acc:.4f}, Val Accuricy {mean_val_acc:.4f}, lr {lr}\"\n",
    "        )\n",
    "\n",
    "        if best_acc == -1:\n",
    "            best_acc = mean_val_acc\n",
    "\n",
    "        if best_acc < mean_val_acc:\n",
    "            best_acc = mean_val_acc\n",
    "\n",
    "            torch.save(\n",
    "                model.state_dict(),\n",
    "                os.path.join(mlc_model, f\"model_state_epoch_{epoch+1}.pt\"),\n",
    "            )\n",
    "            print(f\"Saved: model_state_epoch_{epoch+1}.pt Val loss {mean_val_acc:.4f}\")"
   ]
  },
  {
   "cell_type": "markdown",
   "metadata": {
    "id": "GrKOKlFz4pGG"
   },
   "source": [
    "#### Training only new initialized layers"
   ]
  },
  {
   "cell_type": "code",
   "execution_count": 23,
   "metadata": {
    "colab": {
     "base_uri": "https://localhost:8080/"
    },
    "execution": {
     "iopub.execute_input": "2024-10-10T17:48:09.052698Z",
     "iopub.status.busy": "2024-10-10T17:48:09.051644Z",
     "iopub.status.idle": "2024-10-10T17:49:26.680944Z",
     "shell.execute_reply": "2024-10-10T17:49:26.679916Z",
     "shell.execute_reply.started": "2024-10-10T17:48:09.052648Z"
    },
    "id": "0sCdcDjRB_71",
    "outputId": "4841a8d2-b2d3-4c03-e640-43fa9bd71263"
   },
   "outputs": [
    {
     "name": "stderr",
     "output_type": "stream",
     "text": [
      "                                                                                              \r"
     ]
    },
    {
     "name": "stdout",
     "output_type": "stream",
     "text": [
      "Epoch [1/1], Train loss: 0.0968, Val loss: 0.0842, Train Accuricy 0.0239, Val Accuricy 0.0692, lr 0.0001\n"
     ]
    }
   ],
   "source": [
    "EPOCHS = 2\n",
    "lr = 1e-4\n",
    "\n",
    "params = []\n",
    "names_of_train_params = [\n",
    "    \"bert.pooler.dense.bias\",\n",
    "    \"bert.pooler.dense.weight\",\n",
    "]\n",
    "\n",
    "for name, param in model.named_parameters():\n",
    "    if \"fc\" in name or name in names_of_train_params:\n",
    "        params.append({\"params\": param, \"lr\": lr})\n",
    "    else:\n",
    "        param.requires_grad = False\n",
    "\n",
    "optimizer = torch.optim.AdamW(params)\n",
    "train(model, EPOCHS, optimizer)"
   ]
  },
  {
   "cell_type": "markdown",
   "metadata": {
    "id": "UEGj8xbG4pGG"
   },
   "source": [
    "#### Training fully model"
   ]
  },
  {
   "cell_type": "code",
   "execution_count": 24,
   "metadata": {
    "colab": {
     "base_uri": "https://localhost:8080/"
    },
    "execution": {
     "iopub.execute_input": "2024-10-10T17:49:47.970355Z",
     "iopub.status.busy": "2024-10-10T17:49:47.969898Z",
     "iopub.status.idle": "2024-10-10T18:11:53.765372Z",
     "shell.execute_reply": "2024-10-10T18:11:53.764297Z",
     "shell.execute_reply.started": "2024-10-10T17:49:47.970315Z"
    },
    "id": "Rk0W9kF-0EqF",
    "outputId": "8ecae5f3-e7f8-4083-a6e1-3364b28533a2"
   },
   "outputs": [
    {
     "name": "stderr",
     "output_type": "stream",
     "text": [
      "                                                                                                                \r"
     ]
    },
    {
     "name": "stdout",
     "output_type": "stream",
     "text": [
      "Epoch [1/6], Train loss: 0.0711, Val loss: 0.0488, Train Accuricy 0.2726, Val Accuricy 0.4467, lr [4.6296296296296294e-05]\n"
     ]
    },
    {
     "name": "stderr",
     "output_type": "stream",
     "text": [
      "                                                                                                                \r"
     ]
    },
    {
     "name": "stdout",
     "output_type": "stream",
     "text": [
      "Epoch [2/6], Train loss: 0.0450, Val loss: 0.0418, Train Accuricy 0.4821, Val Accuricy 0.5101, lr [3.7037037037037037e-05]\n",
      "Saved: model_state_epoch_2.pt Val loss 0.5101\n"
     ]
    },
    {
     "name": "stderr",
     "output_type": "stream",
     "text": [
      "                                                                                                                \r"
     ]
    },
    {
     "name": "stdout",
     "output_type": "stream",
     "text": [
      "Epoch [3/6], Train loss: 0.0313, Val loss: 0.0415, Train Accuricy 0.6129, Val Accuricy 0.5216, lr [2.7777777777777776e-05]\n",
      "Saved: model_state_epoch_3.pt Val loss 0.5216\n"
     ]
    },
    {
     "name": "stderr",
     "output_type": "stream",
     "text": [
      "                                                                                                                \r"
     ]
    },
    {
     "name": "stdout",
     "output_type": "stream",
     "text": [
      "Epoch [4/6], Train loss: 0.0216, Val loss: 0.0406, Train Accuricy 0.7249, Val Accuricy 0.5461, lr [1.8518518518518518e-05]\n",
      "Saved: model_state_epoch_4.pt Val loss 0.5461\n"
     ]
    },
    {
     "name": "stderr",
     "output_type": "stream",
     "text": [
      "                                                                                                                \r"
     ]
    },
    {
     "name": "stdout",
     "output_type": "stream",
     "text": [
      "Epoch [5/6], Train loss: 0.0154, Val loss: 0.0413, Train Accuricy 0.8132, Val Accuricy 0.5504, lr [9.259259259259259e-06]\n",
      "Saved: model_state_epoch_5.pt Val loss 0.5504\n"
     ]
    },
    {
     "name": "stderr",
     "output_type": "stream",
     "text": [
      "                                                                                                                \r"
     ]
    },
    {
     "name": "stdout",
     "output_type": "stream",
     "text": [
      "Epoch [6/6], Train loss: 0.0123, Val loss: 0.0416, Train Accuricy 0.8735, Val Accuricy 0.5562, lr [0.0]\n",
      "Saved: model_state_epoch_6.pt Val loss 0.5562\n"
     ]
    }
   ],
   "source": [
    "EPOCHS = 6\n",
    "lr = 5e-5\n",
    "\n",
    "for name, param in model.named_parameters():\n",
    "    param.requires_grad = True\n",
    "    \n",
    "optimizer = torch.optim.AdamW(model.parameters(), lr=lr)\n",
    "\n",
    "total_steps = len(train_loader) * EPOCHS\n",
    "num_warmup_steps = 0.1 * total_steps\n",
    "scheduler = get_linear_schedule_with_warmup(\n",
    "    optimizer, num_warmup_steps=num_warmup_steps, num_training_steps=total_steps\n",
    ")\n",
    "\n",
    "train(model, EPOCHS, optimizer,scheduler)"
   ]
  },
  {
   "cell_type": "code",
   "execution_count": 99,
   "metadata": {
    "colab": {
     "base_uri": "https://localhost:8080/",
     "height": 843
    },
    "execution": {
     "iopub.execute_input": "2024-10-10T18:59:48.994663Z",
     "iopub.status.busy": "2024-10-10T18:59:48.993719Z",
     "iopub.status.idle": "2024-10-10T18:59:49.784139Z",
     "shell.execute_reply": "2024-10-10T18:59:49.783136Z",
     "shell.execute_reply.started": "2024-10-10T18:59:48.994619Z"
    },
    "id": "8mJkI-lyXyah",
    "outputId": "e4e9bcd1-85c5-4067-f898-1be71db613b1"
   },
   "outputs": [
    {
     "data": {
      "image/png": "[encoded data removed]",
      "text/plain": [
       "<Figure size 1600x400 with 3 Axes>"
      ]
     },
     "metadata": {},
     "output_type": "display_data"
    }
   ],
   "source": [
    "import matplotlib.pyplot as plt\n",
    "%matplotlib inline\n",
    "figure, axis = plt.subplots(1, 3,figsize=(16, 4))\n",
    "\n",
    "axis[0].plot(train_loss)\n",
    "axis[0].plot(val_loss)\n",
    "axis[0].legend([\"train_loss\", \"val_loss\"])\n",
    "axis[0].set_title(\"Loss\")\n",
    "\n",
    "axis[1].plot(train_acc)\n",
    "axis[1].plot(val_acc)\n",
    "axis[1].legend([\"train_acc\", \"val_acc\"])\n",
    "axis[1].set_title(\"Accuricy\")\n",
    "\n",
    "axis[2].set_title(\"LR\")\n",
    "axis[2].plot(lr_list)\n",
    "axis[2].legend([\"lr\"])\n",
    "plt.show()"
   ]
  },
  {
   "cell_type": "markdown",
   "metadata": {
    "id": "RAwt3MTh8YBP"
   },
   "source": [
    "previos best\n",
    "\n",
    "{'f1': 0.7427635172037138, 'roc_auc': 0.8883979600988988, 'accuracy': 0.5706051873198847}"
   ]
  },
  {
   "cell_type": "markdown",
   "metadata": {
    "id": "fN4Zm0Y7OYQg"
   },
   "source": [
    "## Validation"
   ]
  },
  {
   "cell_type": "code",
   "execution_count": 123,
   "metadata": {
    "execution": {
     "iopub.execute_input": "2024-10-10T19:39:16.507854Z",
     "iopub.status.busy": "2024-10-10T19:39:16.507356Z",
     "iopub.status.idle": "2024-10-10T19:39:16.525728Z",
     "shell.execute_reply": "2024-10-10T19:39:16.524471Z",
     "shell.execute_reply.started": "2024-10-10T19:39:16.507812Z"
    },
    "id": "8gO_dM94Lym0"
   },
   "outputs": [],
   "source": [
    "def multi_label_metrics(predictions, labels):\n",
    "    f1_micro_average = f1_score(y_true=labels, y_pred=predictions, average=\"micro\")\n",
    "    roc_auc = roc_auc_score(labels, predictions, average=\"micro\")\n",
    "    accuracy = accuracy_score(labels, predictions)\n",
    "    return {\"f1\": f1_micro_average, \"roc_auc\": roc_auc, \"accuracy\": accuracy}\n",
    "\n",
    "def validation(loader, model):\n",
    "    model.eval()\n",
    "    labels = []\n",
    "    preds = []\n",
    "    outs = []\n",
    "    with torch.no_grad():\n",
    "        for d in loader:\n",
    "            input_ids = d[\"input_ids\"].to(device)\n",
    "            attention_mask = d[\"attention_mask\"].to(device)\n",
    "            label = d[\"labels\"].to(device)\n",
    "            output = model(input_ids, attention_mask)\n",
    "            pred = (output > 0).float()\n",
    "            labels.append(label.cpu().numpy())\n",
    "            preds.append(pred.cpu().numpy())\n",
    "            outs.append(output.cpu().numpy())\n",
    "    preds = np.vstack(preds)\n",
    "    labels = np.vstack(labels)\n",
    "    outs = np.vstack(outs)\n",
    "    print(multi_label_metrics(labels, preds))\n",
    "    return labels, outs\n",
    "\n",
    "\n",
    "def find_best_treshold(labels, outs):\n",
    "    max_acc = 0\n",
    "    treshold_max_acc = 0\n",
    "    outs = torch.sigmoid(torch.tensor(np.vstack(outs)))\n",
    "    for treshold in np.arange(0.7, 0.1, -0.05):\n",
    "        preds = outs > treshold\n",
    "        metrics = multi_label_metrics(preds, labels)\n",
    "        print(\n",
    "            f\"Treshold: {treshold:.2f} | Accuracy: {metrics['accuracy']:.4f} | F1: {metrics['f1']:.4f} | ROC AUC: {metrics['roc_auc']:.4f}\"\n",
    "        )\n",
    "\n",
    "        if metrics[\"accuracy\"] > max_acc:\n",
    "            max_acc = metrics[\"accuracy\"]\n",
    "            treshold_max_acc = treshold\n",
    "    return {\"best_treshold\": treshold_max_acc, \"accuracy\": max_acc}\n",
    "\n",
    "#не даёт нечего т.к. модел переобучень на трейне а валидационная выборка слишком мала чтобы корректно подобрать пороги\n",
    "def find_best_treshold_for_each_class(labels,outputs):\n",
    "    #отделний порог для каждого класса\n",
    "    tresholds = np.zeros(shape=(50)) + 0.5\n",
    "    best_acc = ((outputs[:,:] > 0) == labels[:,:]).sum(axis = 0)/labels.shape[0]\n",
    "    \n",
    "    outputs = torch.sigmoid(torch.tensor(np.vstack(outputs)))\n",
    "    for label in range(0,50):\n",
    "        for t in np.arange(0.7, 0., -0.05):\n",
    "            label_acc = (((outputs[:,label] > t) == labels[:,label]).sum(axis = 0))/labels.shape[0]\n",
    "            if label_acc > best_acc[label]:\n",
    "                tresholds[label] = t\n",
    "    return torch.tensor(tresholds)"
   ]
  },
  {
   "cell_type": "code",
   "execution_count": 124,
   "metadata": {
    "execution": {
     "iopub.execute_input": "2024-10-10T19:39:25.644247Z",
     "iopub.status.busy": "2024-10-10T19:39:25.643832Z",
     "iopub.status.idle": "2024-10-10T19:39:25.868810Z",
     "shell.execute_reply": "2024-10-10T19:39:25.866961Z",
     "shell.execute_reply.started": "2024-10-10T19:39:25.644207Z"
    }
   },
   "outputs": [
    {
     "name": "stdout",
     "output_type": "stream",
     "text": [
      "Treshold: 0.70 | Accuracy: 0.5231 | F1: 0.7136 | ROC AUC: 0.8057\n",
      "Treshold: 0.65 | Accuracy: 0.5360 | F1: 0.7248 | ROC AUC: 0.8169\n",
      "Treshold: 0.60 | Accuracy: 0.5432 | F1: 0.7291 | ROC AUC: 0.8249\n",
      "Treshold: 0.55 | Accuracy: 0.5476 | F1: 0.7330 | ROC AUC: 0.8354\n",
      "Treshold: 0.50 | Accuracy: 0.5504 | F1: 0.7393 | ROC AUC: 0.8421\n",
      "Treshold: 0.45 | Accuracy: 0.5562 | F1: 0.7437 | ROC AUC: 0.8506\n",
      "Treshold: 0.40 | Accuracy: 0.5605 | F1: 0.7504 | ROC AUC: 0.8622\n",
      "Treshold: 0.35 | Accuracy: 0.5605 | F1: 0.7500 | ROC AUC: 0.8696\n",
      "Treshold: 0.30 | Accuracy: 0.5418 | F1: 0.7401 | ROC AUC: 0.8721\n",
      "Treshold: 0.25 | Accuracy: 0.5288 | F1: 0.7319 | ROC AUC: 0.8787\n",
      "Treshold: 0.20 | Accuracy: 0.4928 | F1: 0.7221 | ROC AUC: 0.8882\n",
      "Treshold: 0.15 | Accuracy: 0.4597 | F1: 0.7124 | ROC AUC: 0.9025\n"
     ]
    },
    {
     "data": {
      "text/plain": [
       "{'best_treshold': 0.3999999999999997, 'accuracy': 0.5605187319884726}"
      ]
     },
     "execution_count": 124,
     "metadata": {},
     "output_type": "execute_result"
    }
   ],
   "source": [
    "val_labels, val_outputs = validation(val_loader, model)\n",
    "find_best_treshold(val_labels, val_outputs)"
   ]
  },
  {
   "cell_type": "markdown",
   "metadata": {
    "id": "jU6-zdzwNlhN"
   },
   "source": [
    "## Inferance"
   ]
  },
  {
   "cell_type": "code",
   "execution_count": null,
   "metadata": {},
   "outputs": [],
   "source": [
    "#загрузка модели из гугл драйв\n",
    "!pip install gdown\n",
    "!gdown --no-check-certificate --folder https://drive.google.com/drive/folders/1-PsAAfBYC3QfHjcYVf2IZtK7eMBpG_V3?usp=drive_link"
   ]
  },
  {
   "cell_type": "code",
   "execution_count": null,
   "metadata": {},
   "outputs": [],
   "source": [
    "model.load_state_dict(torch.load(os.path.join(mlc_model , \"model_state_epoch_5.pt\")))"
   ]
  },
  {
   "cell_type": "code",
   "execution_count": 79,
   "metadata": {
    "colab": {
     "base_uri": "https://localhost:8080/",
     "height": 458
    },
    "execution": {
     "iopub.execute_input": "2024-10-10T18:43:37.555236Z",
     "iopub.status.busy": "2024-10-10T18:43:37.554301Z",
     "iopub.status.idle": "2024-10-10T18:43:38.097514Z",
     "shell.execute_reply": "2024-10-10T18:43:38.096510Z",
     "shell.execute_reply.started": "2024-10-10T18:43:37.555195Z"
    },
    "id": "fYg9pJGnXYik",
    "outputId": "6a8bd197-20d8-4b28-e844-af91519c611e"
   },
   "outputs": [
    {
     "data": {
      "text/plain": [
       "0       теги: доставка.\\n отзыв: последнее время думаю...\n",
       "1       теги: цена, доставка, ассортимент.\\n отзыв: це...\n",
       "2       теги: навигация по каталогу, ассортимент, дост...\n",
       "3         теги: доставка.\\n отзыв: ужасно долгая доставка\n",
       "4       теги: ассортимент, акции.\\n отзыв: добрый вече...\n",
       "                              ...                        \n",
       "9010    теги: цена, поддержка, доставка.\\n отзыв: заде...\n",
       "9011    теги: цена, качество продукции, ассортимент.\\n...\n",
       "9012    теги: оплата, ассортимент, доставка.\\n отзыв: ...\n",
       "9013    теги: качество продукции, поддержка, доставка....\n",
       "9014    теги: ассортимент, цена, акции, доставка.\\n от...\n",
       "Name: text_and_tag, Length: 9015, dtype: object"
      ]
     },
     "execution_count": 79,
     "metadata": {},
     "output_type": "execute_result"
    }
   ],
   "source": [
    "#подготовка тестових даннsх\n",
    "test = pd.read_csv(\"test.csv\")\n",
    "test[\"text\"] = test[\"text\"].astype(\"str\").copy()\n",
    "\n",
    "test.text = test.text.apply(preprocess_text)\n",
    "test[\"tags\"] = (\n",
    "    test[\"tags\"]\n",
    "    .fillna(\"unknown\")\n",
    "    .astype(\"str\")\n",
    "    .copy()\n",
    "    .apply(lambda x: x.strip(\"{}\").split(\",\"))\n",
    "    .apply(lambda x: (\", \".join(replecment_dict[i] for i in x)))\n",
    ")\n",
    "test[\"text_and_tag\"] = test.apply(\n",
    "    lambda x: f\"теги: {x.tags}.\\n отзыв: {x.text}\", axis=1\n",
    ")\n",
    "text = test[\"text_and_tag\"]\n",
    "text"
   ]
  },
  {
   "cell_type": "code",
   "execution_count": 28,
   "metadata": {
    "colab": {
     "base_uri": "https://localhost:8080/"
    },
    "execution": {
     "iopub.execute_input": "2024-10-10T18:17:20.571155Z",
     "iopub.status.busy": "2024-10-10T18:17:20.570217Z",
     "iopub.status.idle": "2024-10-10T18:17:20.575783Z",
     "shell.execute_reply": "2024-10-10T18:17:20.574753Z",
     "shell.execute_reply.started": "2024-10-10T18:17:20.571111Z"
    },
    "id": "UAEtOlV7XYcV",
    "outputId": "13793588-962a-47a8-dbbe-a7e2671f2e1c"
   },
   "outputs": [],
   "source": [
    "test_dataset = MultiLabelDataset(text, tokenizer)\n",
    "test_loader = DataLoader(test_dataset, batch_size=64)"
   ]
  },
  {
   "cell_type": "code",
   "execution_count": 82,
   "metadata": {
    "colab": {
     "base_uri": "https://localhost:8080/",
     "height": 424
    },
    "execution": {
     "iopub.execute_input": "2024-10-10T18:45:18.737433Z",
     "iopub.status.busy": "2024-10-10T18:45:18.736582Z",
     "iopub.status.idle": "2024-10-10T18:45:18.745148Z",
     "shell.execute_reply": "2024-10-10T18:45:18.743972Z",
     "shell.execute_reply.started": "2024-10-10T18:45:18.737393Z"
    },
    "id": "JSHmLx-i24ww",
    "outputId": "dd3ffafc-586a-4dd4-b9d1-c366c0fa4086"
   },
   "outputs": [],
   "source": [
    "def predict(model,loader):\n",
    "    model.eval()\n",
    "    preds = []\n",
    "    raw_outs = []\n",
    "    with torch.no_grad():\n",
    "        for d in loader:\n",
    "            input_ids = d[\"input_ids\"].to(device)\n",
    "            attention_mask = d[\"attention_mask\"].to(device)\n",
    "            output = model(input_ids, attention_mask)\n",
    "            pred = (output > 0).float()\n",
    "\n",
    "            preds.append(pred.cpu().numpy())\n",
    "            raw_outs.append(output.cpu().numpy())\n",
    "\n",
    "    return np.vstack(preds).astype(\"int\"), np.vstack(raw_outs)\n",
    "\n",
    "def create_target_row(row):\n",
    "    return \" \".join([str(i - 1) for i, val in enumerate(row) if val == 1 and i != 0])\n",
    "\n",
    "def to_sub_format(preds,test = test):\n",
    "    res = pd.DataFrame(\n",
    "        np.hstack([test[\"index\"].values.reshape(test.shape[0], 1), preds]),\n",
    "        columns=[\"index\"] + [f\"trend_id_res{i}\" for i in range(50)],\n",
    "    )\n",
    "    res[\"target\"] = res.apply(create_target_row, axis=1)\n",
    "    res.drop([f\"trend_id_res{i}\" for i in range(50)], axis=1, inplace=True)\n",
    "\n",
    "    assert res.shape == (9015, 2)\n",
    "    res.to_csv(f\"submission.csv\", index=False)\n",
    "    sub = pd.read_csv(f\"submission.csv\")\n",
    "    return sub\n",
    "\n",
    "def fillnan(preds,outs):\n",
    "#заливает нани менее уверенными значениями, там где уверенность совсем мало заливает 19\n",
    "    for t in [0.45, 0.4, 0.35]:\n",
    "        pred_t = (torch.sigmoid(torch.tensor(np.vstack(outs))) > t).numpy().astype(\"int\")\n",
    "        sub_middle = pd.DataFrame(\n",
    "            np.hstack([test[\"index\"].values.reshape(test.shape[0], 1), pred_t]),\n",
    "            columns=[\"index\"] + [f\"trend_id_res{i}\" for i in range(50)],\n",
    "        )\n",
    "        sub_middle[\"target\"] = sub_middle.apply(create_target_row, axis=1)\n",
    "        sub_middle.drop([f\"trend_id_res{i}\" for i in range(50)], axis=1, inplace=True)\n",
    "        assert sub_middle.shape == (9015, 2)\n",
    "        \n",
    "        sub_middle.to_csv(f\"middle.csv\", index=False)\n",
    "        sub_middle = pd.read_csv(f\"middle.csv\")\n",
    "        preds[\"target\"] = preds[\"target\"].fillna(sub_middle['target'])\n",
    "        print(f\"t: {t:.4f} | Nones: {(pred_t.sum(axis=1) == 0).sum()}\")\n",
    "    preds[\"target\"] = preds[\"target\"].fillna(19)\n",
    "    \n",
    "    return preds"
   ]
  },
  {
   "cell_type": "code",
   "execution_count": 91,
   "metadata": {
    "execution": {
     "iopub.execute_input": "2024-10-10T18:47:17.360661Z",
     "iopub.status.busy": "2024-10-10T18:47:17.360261Z",
     "iopub.status.idle": "2024-10-10T18:47:17.366670Z",
     "shell.execute_reply": "2024-10-10T18:47:17.365669Z",
     "shell.execute_reply.started": "2024-10-10T18:47:17.360623Z"
    }
   },
   "outputs": [
    {
     "name": "stdout",
     "output_type": "stream",
     "text": [
      "Nans  766\n"
     ]
    }
   ],
   "source": [
    "test_preds, test_raw = predict(model,test_loader)\n",
    "assert test_preds.shape == (9015, 50)\n",
    "print(\"Nans \",(test_preds.sum(axis=1) == 0).sum())"
   ]
  },
  {
   "cell_type": "code",
   "execution_count": 98,
   "metadata": {
    "execution": {
     "iopub.execute_input": "2024-10-10T18:57:41.790139Z",
     "iopub.status.busy": "2024-10-10T18:57:41.789221Z",
     "iopub.status.idle": "2024-10-10T18:57:42.621330Z",
     "shell.execute_reply": "2024-10-10T18:57:42.620350Z",
     "shell.execute_reply.started": "2024-10-10T18:57:41.790098Z"
    }
   },
   "outputs": [
    {
     "name": "stdout",
     "output_type": "stream",
     "text": [
      "t: 0.4500 | Nones: 646\n",
      "t: 0.4000 | Nones: 534\n",
      "t: 0.3500 | Nones: 439\n"
     ]
    },
    {
     "data": {
      "text/html": [
       "<div>\n",
       "<style scoped>\n",
       "    .dataframe tbody tr th:only-of-type {\n",
       "        vertical-align: middle;\n",
       "    }\n",
       "\n",
       "    .dataframe tbody tr th {\n",
       "        vertical-align: top;\n",
       "    }\n",
       "\n",
       "    .dataframe thead th {\n",
       "        text-align: right;\n",
       "    }\n",
       "</style>\n",
       "<table border=\"1\" class=\"dataframe\">\n",
       "  <thead>\n",
       "    <tr style=\"text-align: right;\">\n",
       "      <th></th>\n",
       "      <th>index</th>\n",
       "      <th>target</th>\n",
       "    </tr>\n",
       "  </thead>\n",
       "  <tbody>\n",
       "    <tr>\n",
       "      <th>0</th>\n",
       "      <td>3135</td>\n",
       "      <td>1 2 12</td>\n",
       "    </tr>\n",
       "    <tr>\n",
       "      <th>1</th>\n",
       "      <td>4655</td>\n",
       "      <td>12</td>\n",
       "    </tr>\n",
       "    <tr>\n",
       "      <th>2</th>\n",
       "      <td>22118</td>\n",
       "      <td>2 35</td>\n",
       "    </tr>\n",
       "    <tr>\n",
       "      <th>3</th>\n",
       "      <td>23511</td>\n",
       "      <td>0</td>\n",
       "    </tr>\n",
       "    <tr>\n",
       "      <th>4</th>\n",
       "      <td>45</td>\n",
       "      <td>18</td>\n",
       "    </tr>\n",
       "    <tr>\n",
       "      <th>...</th>\n",
       "      <td>...</td>\n",
       "      <td>...</td>\n",
       "    </tr>\n",
       "    <tr>\n",
       "      <th>9010</th>\n",
       "      <td>3523</td>\n",
       "      <td>37</td>\n",
       "    </tr>\n",
       "    <tr>\n",
       "      <th>9011</th>\n",
       "      <td>24925</td>\n",
       "      <td>23 28</td>\n",
       "    </tr>\n",
       "    <tr>\n",
       "      <th>9012</th>\n",
       "      <td>6327</td>\n",
       "      <td>8</td>\n",
       "    </tr>\n",
       "    <tr>\n",
       "      <th>9013</th>\n",
       "      <td>530</td>\n",
       "      <td>15</td>\n",
       "    </tr>\n",
       "    <tr>\n",
       "      <th>9014</th>\n",
       "      <td>20221</td>\n",
       "      <td>8</td>\n",
       "    </tr>\n",
       "  </tbody>\n",
       "</table>\n",
       "<p>9015 rows × 2 columns</p>\n",
       "</div>"
      ],
      "text/plain": [
       "      index  target\n",
       "0      3135  1 2 12\n",
       "1      4655      12\n",
       "2     22118    2 35\n",
       "3     23511       0\n",
       "4        45      18\n",
       "...     ...     ...\n",
       "9010   3523      37\n",
       "9011  24925   23 28\n",
       "9012   6327       8\n",
       "9013    530      15\n",
       "9014  20221       8\n",
       "\n",
       "[9015 rows x 2 columns]"
      ]
     },
     "execution_count": 98,
     "metadata": {},
     "output_type": "execute_result"
    }
   ],
   "source": [
    "sub = to_sub_format(test_preds)\n",
    "sub = fillnan(sub,test_raw)\n",
    "\n",
    "sub.to_csv(\"submission_filled.csv\", index=False)\n",
    "pd.read_csv(f\"submission_filled.csv\")"
   ]
  }
 ],
 "metadata": {
  "accelerator": "GPU",
  "colab": {
   "gpuType": "T4",
   "provenance": []
  },
  "kaggle": {
   "accelerator": "gpu",
   "dataSources": [
    {
     "datasetId": 5846964,
     "sourceId": 9587473,
     "sourceType": "datasetVersion"
    }
   ],
   "dockerImageVersionId": 30787,
   "isGpuEnabled": true,
   "isInternetEnabled": true,
   "language": "python",
   "sourceType": "notebook"
  },
  "kernelspec": {
   "display_name": "Python 3 (ipykernel)",
   "language": "python",
   "name": "python3"
  },
  "language_info": {
   "codemirror_mode": {
    "name": "ipython",
    "version": 3
   },
   "file_extension": ".py",
   "mimetype": "text/x-python",
   "name": "python",
   "nbconvert_exporter": "python",
   "pygments_lexer": "ipython3",
   "version": "3.12.6"
  },
  "widgets": {
   "application/vnd.jupyter.widget-state+json": {
    "02ca131e060b415aa479878cb50192ef": {
     "model_module": "@jupyter-widgets/controls",
     "model_module_version": "1.5.0",
     "model_name": "ProgressStyleModel",
     "state": {
      "_model_module": "@jupyter-widgets/controls",
      "_model_module_version": "1.5.0",
      "_model_name": "ProgressStyleModel",
      "_view_count": null,
      "_view_module": "@jupyter-widgets/base",
      "_view_module_version": "1.2.0",
      "_view_name": "StyleView",
      "bar_color": null,
      "description_width": ""
     }
    },
    "0f210147119c49d7bfdc2af80ac2e03c": {
     "model_module": "@jupyter-widgets/base",
     "model_module_version": "1.2.0",
     "model_name": "LayoutModel",
     "state": {
      "_model_module": "@jupyter-widgets/base",
      "_model_module_version": "1.2.0",
      "_model_name": "LayoutModel",
      "_view_count": null,
      "_view_module": "@jupyter-widgets/base",
      "_view_module_version": "1.2.0",
      "_view_name": "LayoutView",
      "align_content": null,
      "align_items": null,
      "align_self": null,
      "border": null,
      "bottom": null,
      "display": null,
      "flex": null,
      "flex_flow": null,
      "grid_area": null,
      "grid_auto_columns": null,
      "grid_auto_flow": null,
      "grid_auto_rows": null,
      "grid_column": null,
      "grid_gap": null,
      "grid_row": null,
      "grid_template_areas": null,
      "grid_template_columns": null,
      "grid_template_rows": null,
      "height": null,
      "justify_content": null,
      "justify_items": null,
      "left": null,
      "margin": null,
      "max_height": null,
      "max_width": null,
      "min_height": null,
      "min_width": null,
      "object_fit": null,
      "object_position": null,
      "order": null,
      "overflow": null,
      "overflow_x": null,
      "overflow_y": null,
      "padding": null,
      "right": null,
      "top": null,
      "visibility": null,
      "width": null
     }
    },
    "115524ef6036446989c5df01f11745b3": {
     "model_module": "@jupyter-widgets/controls",
     "model_module_version": "1.5.0",
     "model_name": "HTMLModel",
     "state": {
      "_dom_classes": [],
      "_model_module": "@jupyter-widgets/controls",
      "_model_module_version": "1.5.0",
      "_model_name": "HTMLModel",
      "_view_count": null,
      "_view_module": "@jupyter-widgets/controls",
      "_view_module_version": "1.5.0",
      "_view_name": "HTMLView",
      "description": "",
      "description_tooltip": null,
      "layout": "IPY_MODEL_898a726456a648a08e730c744084386a",
      "placeholder": "​",
      "style": "IPY_MODEL_3a255d2ee2064036a73bec032c080bd9",
      "value": " 1.65M/1.65M [00:00&lt;00:00, 5.28MB/s]"
     }
    },
    "12f58056b0ec4c3490bc6e895f33a0f1": {
     "model_module": "@jupyter-widgets/controls",
     "model_module_version": "1.5.0",
     "model_name": "ProgressStyleModel",
     "state": {
      "_model_module": "@jupyter-widgets/controls",
      "_model_module_version": "1.5.0",
      "_model_name": "ProgressStyleModel",
      "_view_count": null,
      "_view_module": "@jupyter-widgets/base",
      "_view_module_version": "1.2.0",
      "_view_name": "StyleView",
      "bar_color": null,
      "description_width": ""
     }
    },
    "196d4343298243dba0d396f294633cc7": {
     "model_module": "@jupyter-widgets/base",
     "model_module_version": "1.2.0",
     "model_name": "LayoutModel",
     "state": {
      "_model_module": "@jupyter-widgets/base",
      "_model_module_version": "1.2.0",
      "_model_name": "LayoutModel",
      "_view_count": null,
      "_view_module": "@jupyter-widgets/base",
      "_view_module_version": "1.2.0",
      "_view_name": "LayoutView",
      "align_content": null,
      "align_items": null,
      "align_self": null,
      "border": null,
      "bottom": null,
      "display": null,
      "flex": null,
      "flex_flow": null,
      "grid_area": null,
      "grid_auto_columns": null,
      "grid_auto_flow": null,
      "grid_auto_rows": null,
      "grid_column": null,
      "grid_gap": null,
      "grid_row": null,
      "grid_template_areas": null,
      "grid_template_columns": null,
      "grid_template_rows": null,
      "height": null,
      "justify_content": null,
      "justify_items": null,
      "left": null,
      "margin": null,
      "max_height": null,
      "max_width": null,
      "min_height": null,
      "min_width": null,
      "object_fit": null,
      "object_position": null,
      "order": null,
      "overflow": null,
      "overflow_x": null,
      "overflow_y": null,
      "padding": null,
      "right": null,
      "top": null,
      "visibility": null,
      "width": null
     }
    },
    "1bdf0bc1d30846a6871ee3d79cee4b23": {
     "model_module": "@jupyter-widgets/controls",
     "model_module_version": "1.5.0",
     "model_name": "ProgressStyleModel",
     "state": {
      "_model_module": "@jupyter-widgets/controls",
      "_model_module_version": "1.5.0",
      "_model_name": "ProgressStyleModel",
      "_view_count": null,
      "_view_module": "@jupyter-widgets/base",
      "_view_module_version": "1.2.0",
      "_view_name": "StyleView",
      "bar_color": null,
      "description_width": ""
     }
    },
    "2097afe7c3d34381a795d80e1f75c341": {
     "model_module": "@jupyter-widgets/base",
     "model_module_version": "1.2.0",
     "model_name": "LayoutModel",
     "state": {
      "_model_module": "@jupyter-widgets/base",
      "_model_module_version": "1.2.0",
      "_model_name": "LayoutModel",
      "_view_count": null,
      "_view_module": "@jupyter-widgets/base",
      "_view_module_version": "1.2.0",
      "_view_name": "LayoutView",
      "align_content": null,
      "align_items": null,
      "align_self": null,
      "border": null,
      "bottom": null,
      "display": null,
      "flex": null,
      "flex_flow": null,
      "grid_area": null,
      "grid_auto_columns": null,
      "grid_auto_flow": null,
      "grid_auto_rows": null,
      "grid_column": null,
      "grid_gap": null,
      "grid_row": null,
      "grid_template_areas": null,
      "grid_template_columns": null,
      "grid_template_rows": null,
      "height": null,
      "justify_content": null,
      "justify_items": null,
      "left": null,
      "margin": null,
      "max_height": null,
      "max_width": null,
      "min_height": null,
      "min_width": null,
      "object_fit": null,
      "object_position": null,
      "order": null,
      "overflow": null,
      "overflow_x": null,
      "overflow_y": null,
      "padding": null,
      "right": null,
      "top": null,
      "visibility": null,
      "width": null
     }
    },
    "25be499348704260a32e0f93bc574dd1": {
     "model_module": "@jupyter-widgets/controls",
     "model_module_version": "1.5.0",
     "model_name": "DescriptionStyleModel",
     "state": {
      "_model_module": "@jupyter-widgets/controls",
      "_model_module_version": "1.5.0",
      "_model_name": "DescriptionStyleModel",
      "_view_count": null,
      "_view_module": "@jupyter-widgets/base",
      "_view_module_version": "1.2.0",
      "_view_name": "StyleView",
      "description_width": ""
     }
    },
    "2f38bed55f884833baa0d5bb950b3161": {
     "model_module": "@jupyter-widgets/controls",
     "model_module_version": "1.5.0",
     "model_name": "DescriptionStyleModel",
     "state": {
      "_model_module": "@jupyter-widgets/controls",
      "_model_module_version": "1.5.0",
      "_model_name": "DescriptionStyleModel",
      "_view_count": null,
      "_view_module": "@jupyter-widgets/base",
      "_view_module_version": "1.2.0",
      "_view_name": "StyleView",
      "description_width": ""
     }
    },
    "302e6b6532fc4324b71a95dd7ddc2827": {
     "model_module": "@jupyter-widgets/controls",
     "model_module_version": "1.5.0",
     "model_name": "HTMLModel",
     "state": {
      "_dom_classes": [],
      "_model_module": "@jupyter-widgets/controls",
      "_model_module_version": "1.5.0",
      "_model_name": "HTMLModel",
      "_view_count": null,
      "_view_module": "@jupyter-widgets/controls",
      "_view_module_version": "1.5.0",
      "_view_name": "HTMLView",
      "description": "",
      "description_tooltip": null,
      "layout": "IPY_MODEL_5cb58536080f4dc9830462de5c46e2ca",
      "placeholder": "​",
      "style": "IPY_MODEL_313a53fb54824d17bc97404f624d4ed8",
      "value": "vocab.txt: 100%"
     }
    },
    "313a53fb54824d17bc97404f624d4ed8": {
     "model_module": "@jupyter-widgets/controls",
     "model_module_version": "1.5.0",
     "model_name": "DescriptionStyleModel",
     "state": {
      "_model_module": "@jupyter-widgets/controls",
      "_model_module_version": "1.5.0",
      "_model_name": "DescriptionStyleModel",
      "_view_count": null,
      "_view_module": "@jupyter-widgets/base",
      "_view_module_version": "1.2.0",
      "_view_name": "StyleView",
      "description_width": ""
     }
    },
    "38db00b957a34d1ab5967419fc5f4dbf": {
     "model_module": "@jupyter-widgets/base",
     "model_module_version": "1.2.0",
     "model_name": "LayoutModel",
     "state": {
      "_model_module": "@jupyter-widgets/base",
      "_model_module_version": "1.2.0",
      "_model_name": "LayoutModel",
      "_view_count": null,
      "_view_module": "@jupyter-widgets/base",
      "_view_module_version": "1.2.0",
      "_view_name": "LayoutView",
      "align_content": null,
      "align_items": null,
      "align_self": null,
      "border": null,
      "bottom": null,
      "display": null,
      "flex": null,
      "flex_flow": null,
      "grid_area": null,
      "grid_auto_columns": null,
      "grid_auto_flow": null,
      "grid_auto_rows": null,
      "grid_column": null,
      "grid_gap": null,
      "grid_row": null,
      "grid_template_areas": null,
      "grid_template_columns": null,
      "grid_template_rows": null,
      "height": null,
      "justify_content": null,
      "justify_items": null,
      "left": null,
      "margin": null,
      "max_height": null,
      "max_width": null,
      "min_height": null,
      "min_width": null,
      "object_fit": null,
      "object_position": null,
      "order": null,
      "overflow": null,
      "overflow_x": null,
      "overflow_y": null,
      "padding": null,
      "right": null,
      "top": null,
      "visibility": null,
      "width": null
     }
    },
    "3a255d2ee2064036a73bec032c080bd9": {
     "model_module": "@jupyter-widgets/controls",
     "model_module_version": "1.5.0",
     "model_name": "DescriptionStyleModel",
     "state": {
      "_model_module": "@jupyter-widgets/controls",
      "_model_module_version": "1.5.0",
      "_model_name": "DescriptionStyleModel",
      "_view_count": null,
      "_view_module": "@jupyter-widgets/base",
      "_view_module_version": "1.2.0",
      "_view_name": "StyleView",
      "description_width": ""
     }
    },
    "3bd03b5fe4de440498d92c9c0a2abd4e": {
     "model_module": "@jupyter-widgets/base",
     "model_module_version": "1.2.0",
     "model_name": "LayoutModel",
     "state": {
      "_model_module": "@jupyter-widgets/base",
      "_model_module_version": "1.2.0",
      "_model_name": "LayoutModel",
      "_view_count": null,
      "_view_module": "@jupyter-widgets/base",
      "_view_module_version": "1.2.0",
      "_view_name": "LayoutView",
      "align_content": null,
      "align_items": null,
      "align_self": null,
      "border": null,
      "bottom": null,
      "display": null,
      "flex": null,
      "flex_flow": null,
      "grid_area": null,
      "grid_auto_columns": null,
      "grid_auto_flow": null,
      "grid_auto_rows": null,
      "grid_column": null,
      "grid_gap": null,
      "grid_row": null,
      "grid_template_areas": null,
      "grid_template_columns": null,
      "grid_template_rows": null,
      "height": null,
      "justify_content": null,
      "justify_items": null,
      "left": null,
      "margin": null,
      "max_height": null,
      "max_width": null,
      "min_height": null,
      "min_width": null,
      "object_fit": null,
      "object_position": null,
      "order": null,
      "overflow": null,
      "overflow_x": null,
      "overflow_y": null,
      "padding": null,
      "right": null,
      "top": null,
      "visibility": null,
      "width": null
     }
    },
    "459663ec64284cdd9635ae7600373a96": {
     "model_module": "@jupyter-widgets/controls",
     "model_module_version": "1.5.0",
     "model_name": "HBoxModel",
     "state": {
      "_dom_classes": [],
      "_model_module": "@jupyter-widgets/controls",
      "_model_module_version": "1.5.0",
      "_model_name": "HBoxModel",
      "_view_count": null,
      "_view_module": "@jupyter-widgets/controls",
      "_view_module_version": "1.5.0",
      "_view_name": "HBoxView",
      "box_style": "",
      "children": [
       "IPY_MODEL_302e6b6532fc4324b71a95dd7ddc2827",
       "IPY_MODEL_6b9a7c2e192945c8b3567d5f085a5e3a",
       "IPY_MODEL_115524ef6036446989c5df01f11745b3"
      ],
      "layout": "IPY_MODEL_8c5754ebb9d24f1abfcdf37a4adbc94d"
     }
    },
    "5cb58536080f4dc9830462de5c46e2ca": {
     "model_module": "@jupyter-widgets/base",
     "model_module_version": "1.2.0",
     "model_name": "LayoutModel",
     "state": {
      "_model_module": "@jupyter-widgets/base",
      "_model_module_version": "1.2.0",
      "_model_name": "LayoutModel",
      "_view_count": null,
      "_view_module": "@jupyter-widgets/base",
      "_view_module_version": "1.2.0",
      "_view_name": "LayoutView",
      "align_content": null,
      "align_items": null,
      "align_self": null,
      "border": null,
      "bottom": null,
      "display": null,
      "flex": null,
      "flex_flow": null,
      "grid_area": null,
      "grid_auto_columns": null,
      "grid_auto_flow": null,
      "grid_auto_rows": null,
      "grid_column": null,
      "grid_gap": null,
      "grid_row": null,
      "grid_template_areas": null,
      "grid_template_columns": null,
      "grid_template_rows": null,
      "height": null,
      "justify_content": null,
      "justify_items": null,
      "left": null,
      "margin": null,
      "max_height": null,
      "max_width": null,
      "min_height": null,
      "min_width": null,
      "object_fit": null,
      "object_position": null,
      "order": null,
      "overflow": null,
      "overflow_x": null,
      "overflow_y": null,
      "padding": null,
      "right": null,
      "top": null,
      "visibility": null,
      "width": null
     }
    },
    "5d57c400b4b3480198aa1491ba5b6ac3": {
     "model_module": "@jupyter-widgets/controls",
     "model_module_version": "1.5.0",
     "model_name": "DescriptionStyleModel",
     "state": {
      "_model_module": "@jupyter-widgets/controls",
      "_model_module_version": "1.5.0",
      "_model_name": "DescriptionStyleModel",
      "_view_count": null,
      "_view_module": "@jupyter-widgets/base",
      "_view_module_version": "1.2.0",
      "_view_name": "StyleView",
      "description_width": ""
     }
    },
    "5e305305f5a94370872e93642c983f40": {
     "model_module": "@jupyter-widgets/controls",
     "model_module_version": "1.5.0",
     "model_name": "HTMLModel",
     "state": {
      "_dom_classes": [],
      "_model_module": "@jupyter-widgets/controls",
      "_model_module_version": "1.5.0",
      "_model_name": "HTMLModel",
      "_view_count": null,
      "_view_module": "@jupyter-widgets/controls",
      "_view_module_version": "1.5.0",
      "_view_name": "HTMLView",
      "description": "",
      "description_tooltip": null,
      "layout": "IPY_MODEL_38db00b957a34d1ab5967419fc5f4dbf",
      "placeholder": "​",
      "style": "IPY_MODEL_ae6571be2e704cb2b50c6ef63cef55c1",
      "value": "special_tokens_map.json: 100%"
     }
    },
    "6b9a7c2e192945c8b3567d5f085a5e3a": {
     "model_module": "@jupyter-widgets/controls",
     "model_module_version": "1.5.0",
     "model_name": "FloatProgressModel",
     "state": {
      "_dom_classes": [],
      "_model_module": "@jupyter-widgets/controls",
      "_model_module_version": "1.5.0",
      "_model_name": "FloatProgressModel",
      "_view_count": null,
      "_view_module": "@jupyter-widgets/controls",
      "_view_module_version": "1.5.0",
      "_view_name": "ProgressView",
      "bar_style": "success",
      "description": "",
      "description_tooltip": null,
      "layout": "IPY_MODEL_c2d8fd57d81e423dba6dc36a524f46c7",
      "max": 1649718,
      "min": 0,
      "orientation": "horizontal",
      "style": "IPY_MODEL_cc12251ac48041f98780e4c8177241f4",
      "value": 1649718
     }
    },
    "76bacb9e90ad41c3bb899e91ba8df8b7": {
     "model_module": "@jupyter-widgets/controls",
     "model_module_version": "1.5.0",
     "model_name": "FloatProgressModel",
     "state": {
      "_dom_classes": [],
      "_model_module": "@jupyter-widgets/controls",
      "_model_module_version": "1.5.0",
      "_model_name": "FloatProgressModel",
      "_view_count": null,
      "_view_module": "@jupyter-widgets/controls",
      "_view_module_version": "1.5.0",
      "_view_name": "ProgressView",
      "bar_style": "success",
      "description": "",
      "description_tooltip": null,
      "layout": "IPY_MODEL_d5a49e133aee48af93554de66d23cfd1",
      "max": 642,
      "min": 0,
      "orientation": "horizontal",
      "style": "IPY_MODEL_02ca131e060b415aa479878cb50192ef",
      "value": 642
     }
    },
    "7d757973166e4d2a8dee3bf4a0e086e0": {
     "model_module": "@jupyter-widgets/base",
     "model_module_version": "1.2.0",
     "model_name": "LayoutModel",
     "state": {
      "_model_module": "@jupyter-widgets/base",
      "_model_module_version": "1.2.0",
      "_model_name": "LayoutModel",
      "_view_count": null,
      "_view_module": "@jupyter-widgets/base",
      "_view_module_version": "1.2.0",
      "_view_name": "LayoutView",
      "align_content": null,
      "align_items": null,
      "align_self": null,
      "border": null,
      "bottom": null,
      "display": null,
      "flex": null,
      "flex_flow": null,
      "grid_area": null,
      "grid_auto_columns": null,
      "grid_auto_flow": null,
      "grid_auto_rows": null,
      "grid_column": null,
      "grid_gap": null,
      "grid_row": null,
      "grid_template_areas": null,
      "grid_template_columns": null,
      "grid_template_rows": null,
      "height": null,
      "justify_content": null,
      "justify_items": null,
      "left": null,
      "margin": null,
      "max_height": null,
      "max_width": null,
      "min_height": null,
      "min_width": null,
      "object_fit": null,
      "object_position": null,
      "order": null,
      "overflow": null,
      "overflow_x": null,
      "overflow_y": null,
      "padding": null,
      "right": null,
      "top": null,
      "visibility": null,
      "width": null
     }
    },
    "84377b940a3e40e08739abcf9a3d138a": {
     "model_module": "@jupyter-widgets/controls",
     "model_module_version": "1.5.0",
     "model_name": "HTMLModel",
     "state": {
      "_dom_classes": [],
      "_model_module": "@jupyter-widgets/controls",
      "_model_module_version": "1.5.0",
      "_model_name": "HTMLModel",
      "_view_count": null,
      "_view_module": "@jupyter-widgets/controls",
      "_view_module_version": "1.5.0",
      "_view_name": "HTMLView",
      "description": "",
      "description_tooltip": null,
      "layout": "IPY_MODEL_2097afe7c3d34381a795d80e1f75c341",
      "placeholder": "​",
      "style": "IPY_MODEL_5d57c400b4b3480198aa1491ba5b6ac3",
      "value": "tokenizer_config.json: 100%"
     }
    },
    "898a726456a648a08e730c744084386a": {
     "model_module": "@jupyter-widgets/base",
     "model_module_version": "1.2.0",
     "model_name": "LayoutModel",
     "state": {
      "_model_module": "@jupyter-widgets/base",
      "_model_module_version": "1.2.0",
      "_model_name": "LayoutModel",
      "_view_count": null,
      "_view_module": "@jupyter-widgets/base",
      "_view_module_version": "1.2.0",
      "_view_name": "LayoutView",
      "align_content": null,
      "align_items": null,
      "align_self": null,
      "border": null,
      "bottom": null,
      "display": null,
      "flex": null,
      "flex_flow": null,
      "grid_area": null,
      "grid_auto_columns": null,
      "grid_auto_flow": null,
      "grid_auto_rows": null,
      "grid_column": null,
      "grid_gap": null,
      "grid_row": null,
      "grid_template_areas": null,
      "grid_template_columns": null,
      "grid_template_rows": null,
      "height": null,
      "justify_content": null,
      "justify_items": null,
      "left": null,
      "margin": null,
      "max_height": null,
      "max_width": null,
      "min_height": null,
      "min_width": null,
      "object_fit": null,
      "object_position": null,
      "order": null,
      "overflow": null,
      "overflow_x": null,
      "overflow_y": null,
      "padding": null,
      "right": null,
      "top": null,
      "visibility": null,
      "width": null
     }
    },
    "8c5754ebb9d24f1abfcdf37a4adbc94d": {
     "model_module": "@jupyter-widgets/base",
     "model_module_version": "1.2.0",
     "model_name": "LayoutModel",
     "state": {
      "_model_module": "@jupyter-widgets/base",
      "_model_module_version": "1.2.0",
      "_model_name": "LayoutModel",
      "_view_count": null,
      "_view_module": "@jupyter-widgets/base",
      "_view_module_version": "1.2.0",
      "_view_name": "LayoutView",
      "align_content": null,
      "align_items": null,
      "align_self": null,
      "border": null,
      "bottom": null,
      "display": null,
      "flex": null,
      "flex_flow": null,
      "grid_area": null,
      "grid_auto_columns": null,
      "grid_auto_flow": null,
      "grid_auto_rows": null,
      "grid_column": null,
      "grid_gap": null,
      "grid_row": null,
      "grid_template_areas": null,
      "grid_template_columns": null,
      "grid_template_rows": null,
      "height": null,
      "justify_content": null,
      "justify_items": null,
      "left": null,
      "margin": null,
      "max_height": null,
      "max_width": null,
      "min_height": null,
      "min_width": null,
      "object_fit": null,
      "object_position": null,
      "order": null,
      "overflow": null,
      "overflow_x": null,
      "overflow_y": null,
      "padding": null,
      "right": null,
      "top": null,
      "visibility": null,
      "width": null
     }
    },
    "94e3fc4583cc4c20b717868ec195c836": {
     "model_module": "@jupyter-widgets/base",
     "model_module_version": "1.2.0",
     "model_name": "LayoutModel",
     "state": {
      "_model_module": "@jupyter-widgets/base",
      "_model_module_version": "1.2.0",
      "_model_name": "LayoutModel",
      "_view_count": null,
      "_view_module": "@jupyter-widgets/base",
      "_view_module_version": "1.2.0",
      "_view_name": "LayoutView",
      "align_content": null,
      "align_items": null,
      "align_self": null,
      "border": null,
      "bottom": null,
      "display": null,
      "flex": null,
      "flex_flow": null,
      "grid_area": null,
      "grid_auto_columns": null,
      "grid_auto_flow": null,
      "grid_auto_rows": null,
      "grid_column": null,
      "grid_gap": null,
      "grid_row": null,
      "grid_template_areas": null,
      "grid_template_columns": null,
      "grid_template_rows": null,
      "height": null,
      "justify_content": null,
      "justify_items": null,
      "left": null,
      "margin": null,
      "max_height": null,
      "max_width": null,
      "min_height": null,
      "min_width": null,
      "object_fit": null,
      "object_position": null,
      "order": null,
      "overflow": null,
      "overflow_x": null,
      "overflow_y": null,
      "padding": null,
      "right": null,
      "top": null,
      "visibility": null,
      "width": null
     }
    },
    "9ac6a114081b458fb3d321cfce6bb9fb": {
     "model_module": "@jupyter-widgets/controls",
     "model_module_version": "1.5.0",
     "model_name": "HBoxModel",
     "state": {
      "_dom_classes": [],
      "_model_module": "@jupyter-widgets/controls",
      "_model_module_version": "1.5.0",
      "_model_name": "HBoxModel",
      "_view_count": null,
      "_view_module": "@jupyter-widgets/controls",
      "_view_module_version": "1.5.0",
      "_view_name": "HBoxView",
      "box_style": "",
      "children": [
       "IPY_MODEL_5e305305f5a94370872e93642c983f40",
       "IPY_MODEL_cde416fa94f74dc88b5230fe2e1f9d06",
       "IPY_MODEL_9d0de5d3bed948b590def0593647d9c9"
      ],
      "layout": "IPY_MODEL_ecff7fbd55984d98a330a66c2972f209"
     }
    },
    "9d0de5d3bed948b590def0593647d9c9": {
     "model_module": "@jupyter-widgets/controls",
     "model_module_version": "1.5.0",
     "model_name": "HTMLModel",
     "state": {
      "_dom_classes": [],
      "_model_module": "@jupyter-widgets/controls",
      "_model_module_version": "1.5.0",
      "_model_name": "HTMLModel",
      "_view_count": null,
      "_view_module": "@jupyter-widgets/controls",
      "_view_module_version": "1.5.0",
      "_view_name": "HTMLView",
      "description": "",
      "description_tooltip": null,
      "layout": "IPY_MODEL_b44f9d6dc02b4816860cffd44661c4aa",
      "placeholder": "​",
      "style": "IPY_MODEL_25be499348704260a32e0f93bc574dd1",
      "value": " 112/112 [00:00&lt;00:00, 7.20kB/s]"
     }
    },
    "a05fbc5632a245de993a7bf513ee68eb": {
     "model_module": "@jupyter-widgets/controls",
     "model_module_version": "1.5.0",
     "model_name": "HTMLModel",
     "state": {
      "_dom_classes": [],
      "_model_module": "@jupyter-widgets/controls",
      "_model_module_version": "1.5.0",
      "_model_name": "HTMLModel",
      "_view_count": null,
      "_view_module": "@jupyter-widgets/controls",
      "_view_module_version": "1.5.0",
      "_view_name": "HTMLView",
      "description": "",
      "description_tooltip": null,
      "layout": "IPY_MODEL_94e3fc4583cc4c20b717868ec195c836",
      "placeholder": "​",
      "style": "IPY_MODEL_c944437616d14b68b438d2190cdb2d29",
      "value": "config.json: 100%"
     }
    },
    "a6815ef632aa4d229b3bbce50e943085": {
     "model_module": "@jupyter-widgets/base",
     "model_module_version": "1.2.0",
     "model_name": "LayoutModel",
     "state": {
      "_model_module": "@jupyter-widgets/base",
      "_model_module_version": "1.2.0",
      "_model_name": "LayoutModel",
      "_view_count": null,
      "_view_module": "@jupyter-widgets/base",
      "_view_module_version": "1.2.0",
      "_view_name": "LayoutView",
      "align_content": null,
      "align_items": null,
      "align_self": null,
      "border": null,
      "bottom": null,
      "display": null,
      "flex": null,
      "flex_flow": null,
      "grid_area": null,
      "grid_auto_columns": null,
      "grid_auto_flow": null,
      "grid_auto_rows": null,
      "grid_column": null,
      "grid_gap": null,
      "grid_row": null,
      "grid_template_areas": null,
      "grid_template_columns": null,
      "grid_template_rows": null,
      "height": null,
      "justify_content": null,
      "justify_items": null,
      "left": null,
      "margin": null,
      "max_height": null,
      "max_width": null,
      "min_height": null,
      "min_width": null,
      "object_fit": null,
      "object_position": null,
      "order": null,
      "overflow": null,
      "overflow_x": null,
      "overflow_y": null,
      "padding": null,
      "right": null,
      "top": null,
      "visibility": null,
      "width": null
     }
    },
    "ae6571be2e704cb2b50c6ef63cef55c1": {
     "model_module": "@jupyter-widgets/controls",
     "model_module_version": "1.5.0",
     "model_name": "DescriptionStyleModel",
     "state": {
      "_model_module": "@jupyter-widgets/controls",
      "_model_module_version": "1.5.0",
      "_model_name": "DescriptionStyleModel",
      "_view_count": null,
      "_view_module": "@jupyter-widgets/base",
      "_view_module_version": "1.2.0",
      "_view_name": "StyleView",
      "description_width": ""
     }
    },
    "b44f9d6dc02b4816860cffd44661c4aa": {
     "model_module": "@jupyter-widgets/base",
     "model_module_version": "1.2.0",
     "model_name": "LayoutModel",
     "state": {
      "_model_module": "@jupyter-widgets/base",
      "_model_module_version": "1.2.0",
      "_model_name": "LayoutModel",
      "_view_count": null,
      "_view_module": "@jupyter-widgets/base",
      "_view_module_version": "1.2.0",
      "_view_name": "LayoutView",
      "align_content": null,
      "align_items": null,
      "align_self": null,
      "border": null,
      "bottom": null,
      "display": null,
      "flex": null,
      "flex_flow": null,
      "grid_area": null,
      "grid_auto_columns": null,
      "grid_auto_flow": null,
      "grid_auto_rows": null,
      "grid_column": null,
      "grid_gap": null,
      "grid_row": null,
      "grid_template_areas": null,
      "grid_template_columns": null,
      "grid_template_rows": null,
      "height": null,
      "justify_content": null,
      "justify_items": null,
      "left": null,
      "margin": null,
      "max_height": null,
      "max_width": null,
      "min_height": null,
      "min_width": null,
      "object_fit": null,
      "object_position": null,
      "order": null,
      "overflow": null,
      "overflow_x": null,
      "overflow_y": null,
      "padding": null,
      "right": null,
      "top": null,
      "visibility": null,
      "width": null
     }
    },
    "c2a816fe6c094898a7fc9f731080603f": {
     "model_module": "@jupyter-widgets/base",
     "model_module_version": "1.2.0",
     "model_name": "LayoutModel",
     "state": {
      "_model_module": "@jupyter-widgets/base",
      "_model_module_version": "1.2.0",
      "_model_name": "LayoutModel",
      "_view_count": null,
      "_view_module": "@jupyter-widgets/base",
      "_view_module_version": "1.2.0",
      "_view_name": "LayoutView",
      "align_content": null,
      "align_items": null,
      "align_self": null,
      "border": null,
      "bottom": null,
      "display": null,
      "flex": null,
      "flex_flow": null,
      "grid_area": null,
      "grid_auto_columns": null,
      "grid_auto_flow": null,
      "grid_auto_rows": null,
      "grid_column": null,
      "grid_gap": null,
      "grid_row": null,
      "grid_template_areas": null,
      "grid_template_columns": null,
      "grid_template_rows": null,
      "height": null,
      "justify_content": null,
      "justify_items": null,
      "left": null,
      "margin": null,
      "max_height": null,
      "max_width": null,
      "min_height": null,
      "min_width": null,
      "object_fit": null,
      "object_position": null,
      "order": null,
      "overflow": null,
      "overflow_x": null,
      "overflow_y": null,
      "padding": null,
      "right": null,
      "top": null,
      "visibility": null,
      "width": null
     }
    },
    "c2d8fd57d81e423dba6dc36a524f46c7": {
     "model_module": "@jupyter-widgets/base",
     "model_module_version": "1.2.0",
     "model_name": "LayoutModel",
     "state": {
      "_model_module": "@jupyter-widgets/base",
      "_model_module_version": "1.2.0",
      "_model_name": "LayoutModel",
      "_view_count": null,
      "_view_module": "@jupyter-widgets/base",
      "_view_module_version": "1.2.0",
      "_view_name": "LayoutView",
      "align_content": null,
      "align_items": null,
      "align_self": null,
      "border": null,
      "bottom": null,
      "display": null,
      "flex": null,
      "flex_flow": null,
      "grid_area": null,
      "grid_auto_columns": null,
      "grid_auto_flow": null,
      "grid_auto_rows": null,
      "grid_column": null,
      "grid_gap": null,
      "grid_row": null,
      "grid_template_areas": null,
      "grid_template_columns": null,
      "grid_template_rows": null,
      "height": null,
      "justify_content": null,
      "justify_items": null,
      "left": null,
      "margin": null,
      "max_height": null,
      "max_width": null,
      "min_height": null,
      "min_width": null,
      "object_fit": null,
      "object_position": null,
      "order": null,
      "overflow": null,
      "overflow_x": null,
      "overflow_y": null,
      "padding": null,
      "right": null,
      "top": null,
      "visibility": null,
      "width": null
     }
    },
    "c944437616d14b68b438d2190cdb2d29": {
     "model_module": "@jupyter-widgets/controls",
     "model_module_version": "1.5.0",
     "model_name": "DescriptionStyleModel",
     "state": {
      "_model_module": "@jupyter-widgets/controls",
      "_model_module_version": "1.5.0",
      "_model_name": "DescriptionStyleModel",
      "_view_count": null,
      "_view_module": "@jupyter-widgets/base",
      "_view_module_version": "1.2.0",
      "_view_name": "StyleView",
      "description_width": ""
     }
    },
    "cc12251ac48041f98780e4c8177241f4": {
     "model_module": "@jupyter-widgets/controls",
     "model_module_version": "1.5.0",
     "model_name": "ProgressStyleModel",
     "state": {
      "_model_module": "@jupyter-widgets/controls",
      "_model_module_version": "1.5.0",
      "_model_name": "ProgressStyleModel",
      "_view_count": null,
      "_view_module": "@jupyter-widgets/base",
      "_view_module_version": "1.2.0",
      "_view_name": "StyleView",
      "bar_color": null,
      "description_width": ""
     }
    },
    "cde416fa94f74dc88b5230fe2e1f9d06": {
     "model_module": "@jupyter-widgets/controls",
     "model_module_version": "1.5.0",
     "model_name": "FloatProgressModel",
     "state": {
      "_dom_classes": [],
      "_model_module": "@jupyter-widgets/controls",
      "_model_module_version": "1.5.0",
      "_model_name": "FloatProgressModel",
      "_view_count": null,
      "_view_module": "@jupyter-widgets/controls",
      "_view_module_version": "1.5.0",
      "_view_name": "ProgressView",
      "bar_style": "success",
      "description": "",
      "description_tooltip": null,
      "layout": "IPY_MODEL_c2a816fe6c094898a7fc9f731080603f",
      "max": 112,
      "min": 0,
      "orientation": "horizontal",
      "style": "IPY_MODEL_12f58056b0ec4c3490bc6e895f33a0f1",
      "value": 112
     }
    },
    "d5a49e133aee48af93554de66d23cfd1": {
     "model_module": "@jupyter-widgets/base",
     "model_module_version": "1.2.0",
     "model_name": "LayoutModel",
     "state": {
      "_model_module": "@jupyter-widgets/base",
      "_model_module_version": "1.2.0",
      "_model_name": "LayoutModel",
      "_view_count": null,
      "_view_module": "@jupyter-widgets/base",
      "_view_module_version": "1.2.0",
      "_view_name": "LayoutView",
      "align_content": null,
      "align_items": null,
      "align_self": null,
      "border": null,
      "bottom": null,
      "display": null,
      "flex": null,
      "flex_flow": null,
      "grid_area": null,
      "grid_auto_columns": null,
      "grid_auto_flow": null,
      "grid_auto_rows": null,
      "grid_column": null,
      "grid_gap": null,
      "grid_row": null,
      "grid_template_areas": null,
      "grid_template_columns": null,
      "grid_template_rows": null,
      "height": null,
      "justify_content": null,
      "justify_items": null,
      "left": null,
      "margin": null,
      "max_height": null,
      "max_width": null,
      "min_height": null,
      "min_width": null,
      "object_fit": null,
      "object_position": null,
      "order": null,
      "overflow": null,
      "overflow_x": null,
      "overflow_y": null,
      "padding": null,
      "right": null,
      "top": null,
      "visibility": null,
      "width": null
     }
    },
    "dec5a12fee91473e893475aab27780a6": {
     "model_module": "@jupyter-widgets/controls",
     "model_module_version": "1.5.0",
     "model_name": "FloatProgressModel",
     "state": {
      "_dom_classes": [],
      "_model_module": "@jupyter-widgets/controls",
      "_model_module_version": "1.5.0",
      "_model_name": "FloatProgressModel",
      "_view_count": null,
      "_view_module": "@jupyter-widgets/controls",
      "_view_module_version": "1.5.0",
      "_view_name": "ProgressView",
      "bar_style": "success",
      "description": "",
      "description_tooltip": null,
      "layout": "IPY_MODEL_196d4343298243dba0d396f294633cc7",
      "max": 24,
      "min": 0,
      "orientation": "horizontal",
      "style": "IPY_MODEL_1bdf0bc1d30846a6871ee3d79cee4b23",
      "value": 24
     }
    },
    "e59ec64216b54369aa6579b9f39f4bc8": {
     "model_module": "@jupyter-widgets/controls",
     "model_module_version": "1.5.0",
     "model_name": "HBoxModel",
     "state": {
      "_dom_classes": [],
      "_model_module": "@jupyter-widgets/controls",
      "_model_module_version": "1.5.0",
      "_model_name": "HBoxModel",
      "_view_count": null,
      "_view_module": "@jupyter-widgets/controls",
      "_view_module_version": "1.5.0",
      "_view_name": "HBoxView",
      "box_style": "",
      "children": [
       "IPY_MODEL_a05fbc5632a245de993a7bf513ee68eb",
       "IPY_MODEL_76bacb9e90ad41c3bb899e91ba8df8b7",
       "IPY_MODEL_fa0a1b3eaac24a488e8babf89570884f"
      ],
      "layout": "IPY_MODEL_0f210147119c49d7bfdc2af80ac2e03c"
     }
    },
    "eb133ba17d304c8f89af3195aecca8ce": {
     "model_module": "@jupyter-widgets/controls",
     "model_module_version": "1.5.0",
     "model_name": "HBoxModel",
     "state": {
      "_dom_classes": [],
      "_model_module": "@jupyter-widgets/controls",
      "_model_module_version": "1.5.0",
      "_model_name": "HBoxModel",
      "_view_count": null,
      "_view_module": "@jupyter-widgets/controls",
      "_view_module_version": "1.5.0",
      "_view_name": "HBoxView",
      "box_style": "",
      "children": [
       "IPY_MODEL_84377b940a3e40e08739abcf9a3d138a",
       "IPY_MODEL_dec5a12fee91473e893475aab27780a6",
       "IPY_MODEL_f9b0f348863f4a98b5d0da5597473570"
      ],
      "layout": "IPY_MODEL_a6815ef632aa4d229b3bbce50e943085"
     }
    },
    "ecff7fbd55984d98a330a66c2972f209": {
     "model_module": "@jupyter-widgets/base",
     "model_module_version": "1.2.0",
     "model_name": "LayoutModel",
     "state": {
      "_model_module": "@jupyter-widgets/base",
      "_model_module_version": "1.2.0",
      "_model_name": "LayoutModel",
      "_view_count": null,
      "_view_module": "@jupyter-widgets/base",
      "_view_module_version": "1.2.0",
      "_view_name": "LayoutView",
      "align_content": null,
      "align_items": null,
      "align_self": null,
      "border": null,
      "bottom": null,
      "display": null,
      "flex": null,
      "flex_flow": null,
      "grid_area": null,
      "grid_auto_columns": null,
      "grid_auto_flow": null,
      "grid_auto_rows": null,
      "grid_column": null,
      "grid_gap": null,
      "grid_row": null,
      "grid_template_areas": null,
      "grid_template_columns": null,
      "grid_template_rows": null,
      "height": null,
      "justify_content": null,
      "justify_items": null,
      "left": null,
      "margin": null,
      "max_height": null,
      "max_width": null,
      "min_height": null,
      "min_width": null,
      "object_fit": null,
      "object_position": null,
      "order": null,
      "overflow": null,
      "overflow_x": null,
      "overflow_y": null,
      "padding": null,
      "right": null,
      "top": null,
      "visibility": null,
      "width": null
     }
    },
    "f9b0f348863f4a98b5d0da5597473570": {
     "model_module": "@jupyter-widgets/controls",
     "model_module_version": "1.5.0",
     "model_name": "HTMLModel",
     "state": {
      "_dom_classes": [],
      "_model_module": "@jupyter-widgets/controls",
      "_model_module_version": "1.5.0",
      "_model_name": "HTMLModel",
      "_view_count": null,
      "_view_module": "@jupyter-widgets/controls",
      "_view_module_version": "1.5.0",
      "_view_name": "HTMLView",
      "description": "",
      "description_tooltip": null,
      "layout": "IPY_MODEL_3bd03b5fe4de440498d92c9c0a2abd4e",
      "placeholder": "​",
      "style": "IPY_MODEL_fe171f7e068246d9beafea494e9e8780",
      "value": " 24.0/24.0 [00:00&lt;00:00, 687B/s]"
     }
    },
    "fa0a1b3eaac24a488e8babf89570884f": {
     "model_module": "@jupyter-widgets/controls",
     "model_module_version": "1.5.0",
     "model_name": "HTMLModel",
     "state": {
      "_dom_classes": [],
      "_model_module": "@jupyter-widgets/controls",
      "_model_module_version": "1.5.0",
      "_model_name": "HTMLModel",
      "_view_count": null,
      "_view_module": "@jupyter-widgets/controls",
      "_view_module_version": "1.5.0",
      "_view_name": "HTMLView",
      "description": "",
      "description_tooltip": null,
      "layout": "IPY_MODEL_7d757973166e4d2a8dee3bf4a0e086e0",
      "placeholder": "​",
      "style": "IPY_MODEL_2f38bed55f884833baa0d5bb950b3161",
      "value": " 642/642 [00:00&lt;00:00, 13.2kB/s]"
     }
    },
    "fe171f7e068246d9beafea494e9e8780": {
     "model_module": "@jupyter-widgets/controls",
     "model_module_version": "1.5.0",
     "model_name": "DescriptionStyleModel",
     "state": {
      "_model_module": "@jupyter-widgets/controls",
      "_model_module_version": "1.5.0",
      "_model_name": "DescriptionStyleModel",
      "_view_count": null,
      "_view_module": "@jupyter-widgets/base",
      "_view_module_version": "1.2.0",
      "_view_name": "StyleView",
      "description_width": ""
     }
    }
   }
  }
 },
 "nbformat": 4,
 "nbformat_minor": 4
}
